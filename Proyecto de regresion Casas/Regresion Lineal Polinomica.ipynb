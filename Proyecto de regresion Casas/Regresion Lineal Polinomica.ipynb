{
 "cells": [
  {
   "cell_type": "markdown",
   "id": "d50eb80d-ae30-4d66-8260-01b241b66a95",
   "metadata": {},
   "source": [
    "# Regresión Lineal Polinómica"
   ]
  },
  {
   "cell_type": "markdown",
   "id": "590fca07-915a-4927-98f2-64022d16a793",
   "metadata": {},
   "source": [
    "## 1)- Importamos todas las librerías que necesitaremos para nuestro proyecto"
   ]
  },
  {
   "cell_type": "code",
   "execution_count": 2,
   "id": "258859f8-3acd-4f19-9621-54577877ad97",
   "metadata": {},
   "outputs": [],
   "source": [
    "import pandas as pd\n",
    "import numpy as np\n",
    "import matplotlib.pyplot as plt\n",
    "from sklearn.preprocessing import PolynomialFeatures\n",
    "from sklearn.model_selection import train_test_split\n",
    "from sklearn.linear_model import LinearRegression,Ridge\n",
    "from sklearn.metrics import mean_absolute_error, mean_squared_error"
   ]
  },
  {
   "cell_type": "markdown",
   "id": "6b1098d5-5943-48c5-93c5-0388d5c4153a",
   "metadata": {},
   "source": [
    "## 2)- Ahora vamos a leer el csv y preparar los conjuntos de datos"
   ]
  },
  {
   "cell_type": "code",
   "execution_count": 4,
   "id": "ac84ece1-d29e-4d87-bd91-c04298fe749b",
   "metadata": {},
   "outputs": [
    {
     "data": {
      "text/html": [
       "<div>\n",
       "<style scoped>\n",
       "    .dataframe tbody tr th:only-of-type {\n",
       "        vertical-align: middle;\n",
       "    }\n",
       "\n",
       "    .dataframe tbody tr th {\n",
       "        vertical-align: top;\n",
       "    }\n",
       "\n",
       "    .dataframe thead th {\n",
       "        text-align: right;\n",
       "    }\n",
       "</style>\n",
       "<table border=\"1\" class=\"dataframe\">\n",
       "  <thead>\n",
       "    <tr style=\"text-align: right;\">\n",
       "      <th></th>\n",
       "      <th>price</th>\n",
       "      <th>bedrooms</th>\n",
       "      <th>floors</th>\n",
       "      <th>view</th>\n",
       "      <th>condition</th>\n",
       "      <th>sqft_above</th>\n",
       "      <th>sqft_basement</th>\n",
       "      <th>2</th>\n",
       "      <th>20</th>\n",
       "      <th>22</th>\n",
       "      <th>...</th>\n",
       "      <th>57</th>\n",
       "      <th>58</th>\n",
       "      <th>62</th>\n",
       "      <th>63</th>\n",
       "      <th>72</th>\n",
       "      <th>73</th>\n",
       "      <th>2.1</th>\n",
       "      <th>20.1</th>\n",
       "      <th>22.1</th>\n",
       "      <th>sqft_above_yeojohnson</th>\n",
       "    </tr>\n",
       "  </thead>\n",
       "  <tbody>\n",
       "    <tr>\n",
       "      <th>0</th>\n",
       "      <td>313000.0</td>\n",
       "      <td>-0.441122</td>\n",
       "      <td>-0.022416</td>\n",
       "      <td>-0.309194</td>\n",
       "      <td>-0.667112</td>\n",
       "      <td>-0.565224</td>\n",
       "      <td>-0.672464</td>\n",
       "      <td>0.0</td>\n",
       "      <td>0.0</td>\n",
       "      <td>0.0</td>\n",
       "      <td>...</td>\n",
       "      <td>0.0</td>\n",
       "      <td>0.0</td>\n",
       "      <td>0.0</td>\n",
       "      <td>0.0</td>\n",
       "      <td>0.0</td>\n",
       "      <td>0.0</td>\n",
       "      <td>0.0</td>\n",
       "      <td>0.0</td>\n",
       "      <td>0.0</td>\n",
       "      <td>-0.443794</td>\n",
       "    </tr>\n",
       "    <tr>\n",
       "      <th>1</th>\n",
       "      <td>342000.0</td>\n",
       "      <td>-0.441122</td>\n",
       "      <td>-0.951388</td>\n",
       "      <td>-0.309194</td>\n",
       "      <td>0.809652</td>\n",
       "      <td>0.119171</td>\n",
       "      <td>-0.672464</td>\n",
       "      <td>0.0</td>\n",
       "      <td>0.0</td>\n",
       "      <td>0.0</td>\n",
       "      <td>...</td>\n",
       "      <td>0.0</td>\n",
       "      <td>0.0</td>\n",
       "      <td>0.0</td>\n",
       "      <td>0.0</td>\n",
       "      <td>0.0</td>\n",
       "      <td>0.0</td>\n",
       "      <td>0.0</td>\n",
       "      <td>0.0</td>\n",
       "      <td>0.0</td>\n",
       "      <td>0.531898</td>\n",
       "    </tr>\n",
       "    <tr>\n",
       "      <th>2</th>\n",
       "      <td>420000.0</td>\n",
       "      <td>-0.441122</td>\n",
       "      <td>-0.951388</td>\n",
       "      <td>-0.309194</td>\n",
       "      <td>0.809652</td>\n",
       "      <td>-0.959621</td>\n",
       "      <td>1.482306</td>\n",
       "      <td>0.0</td>\n",
       "      <td>0.0</td>\n",
       "      <td>0.0</td>\n",
       "      <td>...</td>\n",
       "      <td>0.0</td>\n",
       "      <td>0.0</td>\n",
       "      <td>0.0</td>\n",
       "      <td>0.0</td>\n",
       "      <td>0.0</td>\n",
       "      <td>0.0</td>\n",
       "      <td>1.0</td>\n",
       "      <td>0.0</td>\n",
       "      <td>0.0</td>\n",
       "      <td>-1.199296</td>\n",
       "    </tr>\n",
       "    <tr>\n",
       "      <th>3</th>\n",
       "      <td>550000.0</td>\n",
       "      <td>0.659291</td>\n",
       "      <td>-0.951388</td>\n",
       "      <td>-0.309194</td>\n",
       "      <td>0.809652</td>\n",
       "      <td>-0.797222</td>\n",
       "      <td>1.051352</td>\n",
       "      <td>0.0</td>\n",
       "      <td>0.0</td>\n",
       "      <td>0.0</td>\n",
       "      <td>...</td>\n",
       "      <td>0.0</td>\n",
       "      <td>0.0</td>\n",
       "      <td>0.0</td>\n",
       "      <td>0.0</td>\n",
       "      <td>0.0</td>\n",
       "      <td>0.0</td>\n",
       "      <td>0.0</td>\n",
       "      <td>0.0</td>\n",
       "      <td>0.0</td>\n",
       "      <td>-0.871731</td>\n",
       "    </tr>\n",
       "    <tr>\n",
       "      <th>4</th>\n",
       "      <td>490000.0</td>\n",
       "      <td>-1.541536</td>\n",
       "      <td>-0.951388</td>\n",
       "      <td>-0.309194</td>\n",
       "      <td>-0.667112</td>\n",
       "      <td>-1.098820</td>\n",
       "      <td>-0.672464</td>\n",
       "      <td>0.0</td>\n",
       "      <td>0.0</td>\n",
       "      <td>0.0</td>\n",
       "      <td>...</td>\n",
       "      <td>0.0</td>\n",
       "      <td>0.0</td>\n",
       "      <td>0.0</td>\n",
       "      <td>0.0</td>\n",
       "      <td>0.0</td>\n",
       "      <td>0.0</td>\n",
       "      <td>0.0</td>\n",
       "      <td>0.0</td>\n",
       "      <td>0.0</td>\n",
       "      <td>-1.498083</td>\n",
       "    </tr>\n",
       "  </tbody>\n",
       "</table>\n",
       "<p>5 rows × 30 columns</p>\n",
       "</div>"
      ],
      "text/plain": [
       "      price  bedrooms    floors      view  condition  sqft_above  \\\n",
       "0  313000.0 -0.441122 -0.022416 -0.309194  -0.667112   -0.565224   \n",
       "1  342000.0 -0.441122 -0.951388 -0.309194   0.809652    0.119171   \n",
       "2  420000.0 -0.441122 -0.951388 -0.309194   0.809652   -0.959621   \n",
       "3  550000.0  0.659291 -0.951388 -0.309194   0.809652   -0.797222   \n",
       "4  490000.0 -1.541536 -0.951388 -0.309194  -0.667112   -1.098820   \n",
       "\n",
       "   sqft_basement    2   20   22  ...   57   58   62   63   72   73  2.1  20.1  \\\n",
       "0      -0.672464  0.0  0.0  0.0  ...  0.0  0.0  0.0  0.0  0.0  0.0  0.0   0.0   \n",
       "1      -0.672464  0.0  0.0  0.0  ...  0.0  0.0  0.0  0.0  0.0  0.0  0.0   0.0   \n",
       "2       1.482306  0.0  0.0  0.0  ...  0.0  0.0  0.0  0.0  0.0  0.0  1.0   0.0   \n",
       "3       1.051352  0.0  0.0  0.0  ...  0.0  0.0  0.0  0.0  0.0  0.0  0.0   0.0   \n",
       "4      -0.672464  0.0  0.0  0.0  ...  0.0  0.0  0.0  0.0  0.0  0.0  0.0   0.0   \n",
       "\n",
       "   22.1  sqft_above_yeojohnson  \n",
       "0   0.0              -0.443794  \n",
       "1   0.0               0.531898  \n",
       "2   0.0              -1.199296  \n",
       "3   0.0              -0.871731  \n",
       "4   0.0              -1.498083  \n",
       "\n",
       "[5 rows x 30 columns]"
      ]
     },
     "execution_count": 4,
     "metadata": {},
     "output_type": "execute_result"
    }
   ],
   "source": [
    "data = pd.read_csv('Data_house_cleaned.csv')\n",
    "data.head(5)"
   ]
  },
  {
   "cell_type": "markdown",
   "id": "b763fe5b-2fd7-42e7-b9a3-c44267303837",
   "metadata": {},
   "source": [
    "#### Ahora vamos a definir la variable dependiente"
   ]
  },
  {
   "cell_type": "code",
   "execution_count": 5,
   "id": "23da5053-7c48-4e58-a7b1-5c1f98219aa0",
   "metadata": {},
   "outputs": [],
   "source": [
    "y = data['price']"
   ]
  },
  {
   "cell_type": "markdown",
   "id": "cd28fe1b-930f-466e-af63-beb73dbe287d",
   "metadata": {},
   "source": [
    "#### En el caso del conjunto de datos independientes, vamos a hacer una separación entre las variables continuas y las variables dummy, además de que antes de hacer la división en los dos dataframe, vamos a colocar los datos de sqft_above_yeojohnson en sqft_above, ya que son los datos ya transformados necesarios para la regresión polinómica"
   ]
  },
  {
   "cell_type": "code",
   "execution_count": 6,
   "id": "e415fc6d-d88c-40ab-80f7-76b5a43e400f",
   "metadata": {},
   "outputs": [],
   "source": [
    "data['sqft_above'] = data['sqft_above_yeojohnson']"
   ]
  },
  {
   "cell_type": "code",
   "execution_count": 10,
   "id": "65bb10f2-fd06-4a93-9a37-75ea83ab940d",
   "metadata": {},
   "outputs": [
    {
     "data": {
      "text/html": [
       "<div>\n",
       "<style scoped>\n",
       "    .dataframe tbody tr th:only-of-type {\n",
       "        vertical-align: middle;\n",
       "    }\n",
       "\n",
       "    .dataframe tbody tr th {\n",
       "        vertical-align: top;\n",
       "    }\n",
       "\n",
       "    .dataframe thead th {\n",
       "        text-align: right;\n",
       "    }\n",
       "</style>\n",
       "<table border=\"1\" class=\"dataframe\">\n",
       "  <thead>\n",
       "    <tr style=\"text-align: right;\">\n",
       "      <th></th>\n",
       "      <th>2</th>\n",
       "      <th>20</th>\n",
       "      <th>22</th>\n",
       "      <th>44</th>\n",
       "      <th>45</th>\n",
       "      <th>46</th>\n",
       "      <th>47</th>\n",
       "      <th>49</th>\n",
       "      <th>51</th>\n",
       "      <th>52</th>\n",
       "      <th>...</th>\n",
       "      <th>55</th>\n",
       "      <th>57</th>\n",
       "      <th>58</th>\n",
       "      <th>62</th>\n",
       "      <th>63</th>\n",
       "      <th>72</th>\n",
       "      <th>73</th>\n",
       "      <th>2.1</th>\n",
       "      <th>20.1</th>\n",
       "      <th>22.1</th>\n",
       "    </tr>\n",
       "  </thead>\n",
       "  <tbody>\n",
       "    <tr>\n",
       "      <th>0</th>\n",
       "      <td>0.0</td>\n",
       "      <td>0.0</td>\n",
       "      <td>0.0</td>\n",
       "      <td>0.0</td>\n",
       "      <td>0.0</td>\n",
       "      <td>0.0</td>\n",
       "      <td>0.0</td>\n",
       "      <td>0.0</td>\n",
       "      <td>0.0</td>\n",
       "      <td>0.0</td>\n",
       "      <td>...</td>\n",
       "      <td>0.0</td>\n",
       "      <td>0.0</td>\n",
       "      <td>0.0</td>\n",
       "      <td>0.0</td>\n",
       "      <td>0.0</td>\n",
       "      <td>0.0</td>\n",
       "      <td>0.0</td>\n",
       "      <td>0.0</td>\n",
       "      <td>0.0</td>\n",
       "      <td>0.0</td>\n",
       "    </tr>\n",
       "    <tr>\n",
       "      <th>1</th>\n",
       "      <td>0.0</td>\n",
       "      <td>0.0</td>\n",
       "      <td>0.0</td>\n",
       "      <td>0.0</td>\n",
       "      <td>0.0</td>\n",
       "      <td>0.0</td>\n",
       "      <td>0.0</td>\n",
       "      <td>0.0</td>\n",
       "      <td>0.0</td>\n",
       "      <td>0.0</td>\n",
       "      <td>...</td>\n",
       "      <td>0.0</td>\n",
       "      <td>0.0</td>\n",
       "      <td>0.0</td>\n",
       "      <td>0.0</td>\n",
       "      <td>0.0</td>\n",
       "      <td>0.0</td>\n",
       "      <td>0.0</td>\n",
       "      <td>0.0</td>\n",
       "      <td>0.0</td>\n",
       "      <td>0.0</td>\n",
       "    </tr>\n",
       "    <tr>\n",
       "      <th>2</th>\n",
       "      <td>0.0</td>\n",
       "      <td>0.0</td>\n",
       "      <td>0.0</td>\n",
       "      <td>0.0</td>\n",
       "      <td>0.0</td>\n",
       "      <td>0.0</td>\n",
       "      <td>0.0</td>\n",
       "      <td>0.0</td>\n",
       "      <td>0.0</td>\n",
       "      <td>0.0</td>\n",
       "      <td>...</td>\n",
       "      <td>0.0</td>\n",
       "      <td>0.0</td>\n",
       "      <td>0.0</td>\n",
       "      <td>0.0</td>\n",
       "      <td>0.0</td>\n",
       "      <td>0.0</td>\n",
       "      <td>0.0</td>\n",
       "      <td>1.0</td>\n",
       "      <td>0.0</td>\n",
       "      <td>0.0</td>\n",
       "    </tr>\n",
       "    <tr>\n",
       "      <th>3</th>\n",
       "      <td>0.0</td>\n",
       "      <td>0.0</td>\n",
       "      <td>0.0</td>\n",
       "      <td>0.0</td>\n",
       "      <td>0.0</td>\n",
       "      <td>0.0</td>\n",
       "      <td>0.0</td>\n",
       "      <td>0.0</td>\n",
       "      <td>0.0</td>\n",
       "      <td>0.0</td>\n",
       "      <td>...</td>\n",
       "      <td>0.0</td>\n",
       "      <td>0.0</td>\n",
       "      <td>0.0</td>\n",
       "      <td>0.0</td>\n",
       "      <td>0.0</td>\n",
       "      <td>0.0</td>\n",
       "      <td>0.0</td>\n",
       "      <td>0.0</td>\n",
       "      <td>0.0</td>\n",
       "      <td>0.0</td>\n",
       "    </tr>\n",
       "    <tr>\n",
       "      <th>4</th>\n",
       "      <td>0.0</td>\n",
       "      <td>0.0</td>\n",
       "      <td>0.0</td>\n",
       "      <td>0.0</td>\n",
       "      <td>0.0</td>\n",
       "      <td>0.0</td>\n",
       "      <td>0.0</td>\n",
       "      <td>0.0</td>\n",
       "      <td>0.0</td>\n",
       "      <td>0.0</td>\n",
       "      <td>...</td>\n",
       "      <td>0.0</td>\n",
       "      <td>0.0</td>\n",
       "      <td>0.0</td>\n",
       "      <td>0.0</td>\n",
       "      <td>0.0</td>\n",
       "      <td>0.0</td>\n",
       "      <td>0.0</td>\n",
       "      <td>0.0</td>\n",
       "      <td>0.0</td>\n",
       "      <td>0.0</td>\n",
       "    </tr>\n",
       "  </tbody>\n",
       "</table>\n",
       "<p>5 rows × 22 columns</p>\n",
       "</div>"
      ],
      "text/plain": [
       "     2   20   22   44   45   46   47   49   51   52  ...   55   57   58   62  \\\n",
       "0  0.0  0.0  0.0  0.0  0.0  0.0  0.0  0.0  0.0  0.0  ...  0.0  0.0  0.0  0.0   \n",
       "1  0.0  0.0  0.0  0.0  0.0  0.0  0.0  0.0  0.0  0.0  ...  0.0  0.0  0.0  0.0   \n",
       "2  0.0  0.0  0.0  0.0  0.0  0.0  0.0  0.0  0.0  0.0  ...  0.0  0.0  0.0  0.0   \n",
       "3  0.0  0.0  0.0  0.0  0.0  0.0  0.0  0.0  0.0  0.0  ...  0.0  0.0  0.0  0.0   \n",
       "4  0.0  0.0  0.0  0.0  0.0  0.0  0.0  0.0  0.0  0.0  ...  0.0  0.0  0.0  0.0   \n",
       "\n",
       "    63   72   73  2.1  20.1  22.1  \n",
       "0  0.0  0.0  0.0  0.0   0.0   0.0  \n",
       "1  0.0  0.0  0.0  0.0   0.0   0.0  \n",
       "2  0.0  0.0  0.0  1.0   0.0   0.0  \n",
       "3  0.0  0.0  0.0  0.0   0.0   0.0  \n",
       "4  0.0  0.0  0.0  0.0   0.0   0.0  \n",
       "\n",
       "[5 rows x 22 columns]"
      ]
     },
     "execution_count": 10,
     "metadata": {},
     "output_type": "execute_result"
    }
   ],
   "source": [
    "X_dummy = data.iloc[:,7:-1]\n",
    "X_dummy.head()"
   ]
  },
  {
   "cell_type": "code",
   "execution_count": 13,
   "id": "9aa733af-9df5-4bd9-a742-28b637ce86bc",
   "metadata": {},
   "outputs": [
    {
     "data": {
      "text/html": [
       "<div>\n",
       "<style scoped>\n",
       "    .dataframe tbody tr th:only-of-type {\n",
       "        vertical-align: middle;\n",
       "    }\n",
       "\n",
       "    .dataframe tbody tr th {\n",
       "        vertical-align: top;\n",
       "    }\n",
       "\n",
       "    .dataframe thead th {\n",
       "        text-align: right;\n",
       "    }\n",
       "</style>\n",
       "<table border=\"1\" class=\"dataframe\">\n",
       "  <thead>\n",
       "    <tr style=\"text-align: right;\">\n",
       "      <th></th>\n",
       "      <th>bedrooms</th>\n",
       "      <th>floors</th>\n",
       "      <th>view</th>\n",
       "      <th>condition</th>\n",
       "      <th>sqft_above</th>\n",
       "      <th>sqft_basement</th>\n",
       "    </tr>\n",
       "  </thead>\n",
       "  <tbody>\n",
       "    <tr>\n",
       "      <th>0</th>\n",
       "      <td>-0.441122</td>\n",
       "      <td>-0.022416</td>\n",
       "      <td>-0.309194</td>\n",
       "      <td>-0.667112</td>\n",
       "      <td>-0.443794</td>\n",
       "      <td>-0.672464</td>\n",
       "    </tr>\n",
       "    <tr>\n",
       "      <th>1</th>\n",
       "      <td>-0.441122</td>\n",
       "      <td>-0.951388</td>\n",
       "      <td>-0.309194</td>\n",
       "      <td>0.809652</td>\n",
       "      <td>0.531898</td>\n",
       "      <td>-0.672464</td>\n",
       "    </tr>\n",
       "    <tr>\n",
       "      <th>2</th>\n",
       "      <td>-0.441122</td>\n",
       "      <td>-0.951388</td>\n",
       "      <td>-0.309194</td>\n",
       "      <td>0.809652</td>\n",
       "      <td>-1.199296</td>\n",
       "      <td>1.482306</td>\n",
       "    </tr>\n",
       "    <tr>\n",
       "      <th>3</th>\n",
       "      <td>0.659291</td>\n",
       "      <td>-0.951388</td>\n",
       "      <td>-0.309194</td>\n",
       "      <td>0.809652</td>\n",
       "      <td>-0.871731</td>\n",
       "      <td>1.051352</td>\n",
       "    </tr>\n",
       "    <tr>\n",
       "      <th>4</th>\n",
       "      <td>-1.541536</td>\n",
       "      <td>-0.951388</td>\n",
       "      <td>-0.309194</td>\n",
       "      <td>-0.667112</td>\n",
       "      <td>-1.498083</td>\n",
       "      <td>-0.672464</td>\n",
       "    </tr>\n",
       "  </tbody>\n",
       "</table>\n",
       "</div>"
      ],
      "text/plain": [
       "   bedrooms    floors      view  condition  sqft_above  sqft_basement\n",
       "0 -0.441122 -0.022416 -0.309194  -0.667112   -0.443794      -0.672464\n",
       "1 -0.441122 -0.951388 -0.309194   0.809652    0.531898      -0.672464\n",
       "2 -0.441122 -0.951388 -0.309194   0.809652   -1.199296       1.482306\n",
       "3  0.659291 -0.951388 -0.309194   0.809652   -0.871731       1.051352\n",
       "4 -1.541536 -0.951388 -0.309194  -0.667112   -1.498083      -0.672464"
      ]
     },
     "execution_count": 13,
     "metadata": {},
     "output_type": "execute_result"
    }
   ],
   "source": [
    "X_continue = data.iloc[:,1:7]\n",
    "X_continue.head()"
   ]
  },
  {
   "cell_type": "markdown",
   "id": "a6c6e947-d2d9-4eb8-820b-1fc33ac734e4",
   "metadata": {},
   "source": [
    "## 3)- Creación del modelo de Regresión polinómica y evaluación"
   ]
  },
  {
   "cell_type": "markdown",
   "id": "b85294b2-c515-4c2e-be0b-9d2a323b2ead",
   "metadata": {},
   "source": [
    "#### Esta función entrenará a 4 modelos de regresión lineal con diferentes escalados polinómicos y obtendrá la puntuación de sus rendimientos devolviendo el porcentaje de error medio absoluto desde el exponente uno hasta el 5"
   ]
  },
  {
   "cell_type": "code",
   "execution_count": 47,
   "id": "ada59177-b62e-449a-9bf0-563114640616",
   "metadata": {},
   "outputs": [],
   "source": [
    "def creationAndEvaluationModelPoly (Dummy, Continue,y):\n",
    "    Dummy=pd.DataFrame(Dummy)\n",
    "    Dummy.index = np.arange(0,len(Dummy))\n",
    "    listResults = list()\n",
    "    regresor = LinearRegression()\n",
    "    for i in range(1,6):\n",
    "        Poly = PolynomialFeatures(degree = i)\n",
    "        X_conti = Poly.fit_transform(Continue)\n",
    "        X_conti = pd.DataFrame(X_conti)\n",
    "        X_conti.index = np.arange(0,len(Dummy))\n",
    "        X = pd.concat([X_conti,Dummy],axis = 1)\n",
    "        X.columns = X.columns.astype(str)\n",
    "        X=X.astype(np.float32)\n",
    "        X_train,X_test,y_train,y_test=train_test_split(X,y,test_size=0.2)\n",
    "        regresor.fit(X_train, y_train)\n",
    "        pred = regresor.predict(X_test)\n",
    "        listResults.append((mean_absolute_error(y_test, pred)/y.mean())*100)\n",
    "    return listResults"
   ]
  },
  {
   "cell_type": "code",
   "execution_count": 32,
   "id": "2f1829b4-7c59-4aa2-9b8a-65f08bbeec16",
   "metadata": {},
   "outputs": [],
   "source": [
    "lista = creationAndEvaluationModelPoly(X_continue,X_dummy,y)"
   ]
  },
  {
   "cell_type": "code",
   "execution_count": 102,
   "id": "01fab2e4-41eb-4ba9-989b-182740e37dca",
   "metadata": {},
   "outputs": [
    {
     "data": {
      "image/png": "[encoded data removed]",
      "text/plain": [
       "<Figure size 640x480 with 1 Axes>"
      ]
     },
     "metadata": {},
     "output_type": "display_data"
    }
   ],
   "source": [
    "plt.plot(np.arange(1,6), lista)\n",
    "plt.title('Porcentaje de error medio absoluto con diferentes exponentes', fontsize=18)\n",
    "plt.xlabel('Exponente', fontsize=14)\n",
    "plt.ylabel('Porcentaje de error medio absoluto', fontsize=14)\n",
    "plt.show()"
   ]
  },
  {
   "cell_type": "markdown",
   "id": "ac9404a1-67d5-4feb-9cb1-bc1eddc25067",
   "metadata": {},
   "source": [
    "##### El que mejor resultado ha dado es el exponente de 4, por ende por ahora vamos a trabajar con un modelo de regresión que aplique una penalización a los coeficientes grandes, para que elimine el posible sobre ajuste que puede haber y de esta manera conseguir un modelo más preciso en sus mediciones. He decidido usar Ridge porque Laso fuerza a algunos elementos a tener coeficiente 0, cosa que no nos interesa, ya que en general todas nuestras columnas ya procesadas tienen una importancia en mayor o menor medida a la hora de la medición"
   ]
  },
  {
   "cell_type": "markdown",
   "id": "baa2379c-1092-4b80-88df-c81c1e23a83c",
   "metadata": {},
   "source": [
    "## 3)- Creación del modelo con penalización Ridge y búsqueda de los mejores hiperparámetros"
   ]
  },
  {
   "cell_type": "markdown",
   "id": "2b717e44-e343-477d-8f02-eebd1b166ce0",
   "metadata": {},
   "source": [
    "### La función de aquí abajo calculará la precisión del modelo con diferentes alphas de penalización para la regresión Ridge"
   ]
  },
  {
   "cell_type": "markdown",
   "id": "695d58bf-1d3d-41cd-8315-f53400458833",
   "metadata": {},
   "source": [
    "##### \"Parámetros\":"
   ]
  },
  {
   "cell_type": "markdown",
   "id": "7f05d31c-a7e8-4112-a354-50e7d892e31d",
   "metadata": {},
   "source": [
    "##### X: es el conjunto de datos de variables independientes ya escalados"
   ]
  },
  {
   "cell_type": "markdown",
   "id": "7b979398-74f8-408e-9593-a3f515bbbbe3",
   "metadata": {},
   "source": [
    "##### y: es el vector de la variable dependiente"
   ]
  },
  {
   "cell_type": "markdown",
   "id": "770feb37-cd46-433b-924b-f428ae123946",
   "metadata": {},
   "source": [
    "##### maxAlpha: es el valor máximo no incluido en el rango de Alphas que se probaran"
   ]
  },
  {
   "cell_type": "markdown",
   "id": "cf7f3b22-7f83-4b53-ab60-9568e20257d3",
   "metadata": {},
   "source": [
    "##### ups: es el valor de subida de Alpha en cada iteración"
   ]
  },
  {
   "cell_type": "code",
   "execution_count": 83,
   "id": "4c7d04f2-bada-4b06-9a81-c5a0fde8c020",
   "metadata": {},
   "outputs": [],
   "source": [
    "def creationAndEvaluationRidge (X,y,minAlpha,maxAlpha,ups):\n",
    "    listResults = list()\n",
    "    X_train,X_test,y_train,y_test=train_test_split(X,y,test_size=0.2)\n",
    "    for i in np.arange(minAlpha,maxAlpha,ups):\n",
    "        regresor = Ridge(alpha=i)\n",
    "        regresor.fit(X_train, y_train)\n",
    "        pred = regresor.predict(X_test)\n",
    "        listResults.append((mean_absolute_error(y_test, pred)/y.mean())*100)\n",
    "    return listResults"
   ]
  },
  {
   "cell_type": "markdown",
   "id": "7d01e81f-2fc8-42b4-9d2b-63d9be27c9a9",
   "metadata": {},
   "source": [
    "#### Preparamos el conjunto de datos en escalado polinómico grado 4"
   ]
  },
  {
   "cell_type": "code",
   "execution_count": 37,
   "id": "967bb59c-909b-4174-8560-9ad60fa67788",
   "metadata": {},
   "outputs": [],
   "source": [
    "Poly = PolynomialFeatures(degree = 4)"
   ]
  },
  {
   "cell_type": "code",
   "execution_count": 41,
   "id": "48daee47-4c8d-420e-aae1-dfb1900b2601",
   "metadata": {},
   "outputs": [],
   "source": [
    "X_conti = Poly.fit_transform(X_continue)\n",
    "X_conti = pd.DataFrame(X_conti)"
   ]
  },
  {
   "cell_type": "code",
   "execution_count": 42,
   "id": "92c43654-0bd9-4957-b480-c63a75e57626",
   "metadata": {},
   "outputs": [],
   "source": [
    "X_dummy.index = np.arange(0,len(X_dummy))\n",
    "X_conti.index = np.arange(0,len(X_dummy))"
   ]
  },
  {
   "cell_type": "code",
   "execution_count": 44,
   "id": "5a27732a-925d-4e2f-89c8-f72918456293",
   "metadata": {},
   "outputs": [],
   "source": [
    "X = pd.concat([X_conti,X_dummy],axis = 1)"
   ]
  },
  {
   "cell_type": "code",
   "execution_count": 45,
   "id": "02af68b6-55e4-4137-a364-622501f4737e",
   "metadata": {},
   "outputs": [],
   "source": [
    "X.columns = X.columns.astype(str)\n",
    "X=X.astype(np.float32)"
   ]
  },
  {
   "cell_type": "markdown",
   "id": "733964dd-a8cf-46b5-814e-8125e561fd88",
   "metadata": {},
   "source": [
    "#### Ejecutamos la función en un rango de 0 a 1,4 con saltos de 0.2"
   ]
  },
  {
   "cell_type": "code",
   "execution_count": 97,
   "id": "65e8a0bd-2a6d-4f06-9827-000337e0ddc6",
   "metadata": {},
   "outputs": [],
   "source": [
    "listaR = creationAndEvaluationRidge (X,y,1.8,10,0.1)"
   ]
  },
  {
   "cell_type": "code",
   "execution_count": 99,
   "id": "79755751-ad99-4c20-b8c6-f2894c29e5f9",
   "metadata": {},
   "outputs": [
    {
     "data": {
      "image/png": "[encoded data removed]",
      "text/plain": [
       "<Figure size 640x480 with 1 Axes>"
      ]
     },
     "metadata": {},
     "output_type": "display_data"
    }
   ],
   "source": [
    "plt.plot(np.arange(1.8,10,0.1), listaR)\n",
    "plt.title('Porcentaje de error medio absoluto Ridge en exponente 4', fontsize=18)\n",
    "plt.xlabel('Alpha', fontsize=14)\n",
    "plt.ylabel('Porcentaje de error medio absoluto', fontsize=14)\n",
    "plt.show()"
   ]
  },
  {
   "cell_type": "markdown",
   "id": "76ee211d-a9e6-4aec-b828-1482cb336b93",
   "metadata": {},
   "source": [
    "##### Esta gráfica nos muestra que el erro medio absoluto no se ve mejorado con la regresión Ridge, esto es debido a que es probable que el modelo este suficientemente bien ajustado originalmente"
   ]
  },
  {
   "cell_type": "markdown",
   "id": "dd1ae7e8-8675-4260-816e-b87224b22c2f",
   "metadata": {},
   "source": [
    "#### El mejor resultado de la regresión lineal polinómica es del 81.5% de precisión"
   ]
  },
  {
   "cell_type": "code",
   "execution_count": null,
   "id": "c5c5c860-1bda-4d92-963c-8b1aa2aca533",
   "metadata": {},
   "outputs": [],
   "source": []
  }
 ],
 "metadata": {
  "kernelspec": {
   "display_name": "Python 3 (ipykernel)",
   "language": "python",
   "name": "python3"
  },
  "language_info": {
   "codemirror_mode": {
    "name": "ipython",
    "version": 3
   },
   "file_extension": ".py",
   "mimetype": "text/x-python",
   "name": "python",
   "nbconvert_exporter": "python",
   "pygments_lexer": "ipython3",
   "version": "3.8.15"
  }
 },
 "nbformat": 4,
 "nbformat_minor": 5
}
