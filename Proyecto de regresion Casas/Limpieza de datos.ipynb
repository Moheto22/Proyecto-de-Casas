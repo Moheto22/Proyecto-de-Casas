{
 "cells": [
  {
   "cell_type": "markdown",
   "id": "19ca0aa1-83bd-40cf-9892-751a8b5dea80",
   "metadata": {},
   "source": [
    "# LIMPIEZA DE DATOS"
   ]
  },
  {
   "cell_type": "markdown",
   "id": "2c17cfb4-d28a-4ee8-b213-0f075e412d7c",
   "metadata": {},
   "source": [
    "## 1)- Importamos todas las librerías que necesitaremos para nuestro proyecto"
   ]
  },
  {
   "cell_type": "code",
   "execution_count": 162,
   "id": "70c8c9d2-b5e3-43af-adf6-73d46ba6912b",
   "metadata": {},
   "outputs": [],
   "source": [
    "import pandas as pd\n",
    "import numpy as np\n",
    "import matplotlib.pyplot as plt\n",
    "from sklearn.preprocessing import LabelEncoder,OneHotEncoder,StandardScaler,PowerTransformer\n",
    "import statsmodels.api as sm"
   ]
  },
  {
   "cell_type": "markdown",
   "id": "291e6b88-fc23-421d-961f-62eab5478eee",
   "metadata": {},
   "source": [
    "## 2)- Importamos el dataset "
   ]
  },
  {
   "cell_type": "code",
   "execution_count": 163,
   "id": "d6ede32c-03a2-4642-9c29-9e11e961ea05",
   "metadata": {},
   "outputs": [
    {
     "data": {
      "text/html": [
       "<div>\n",
       "<style scoped>\n",
       "    .dataframe tbody tr th:only-of-type {\n",
       "        vertical-align: middle;\n",
       "    }\n",
       "\n",
       "    .dataframe tbody tr th {\n",
       "        vertical-align: top;\n",
       "    }\n",
       "\n",
       "    .dataframe thead th {\n",
       "        text-align: right;\n",
       "    }\n",
       "</style>\n",
       "<table border=\"1\" class=\"dataframe\">\n",
       "  <thead>\n",
       "    <tr style=\"text-align: right;\">\n",
       "      <th></th>\n",
       "      <th>date</th>\n",
       "      <th>price</th>\n",
       "      <th>bedrooms</th>\n",
       "      <th>bathrooms</th>\n",
       "      <th>sqft_living</th>\n",
       "      <th>sqft_lot</th>\n",
       "      <th>floors</th>\n",
       "      <th>waterfront</th>\n",
       "      <th>view</th>\n",
       "      <th>condition</th>\n",
       "      <th>sqft_above</th>\n",
       "      <th>sqft_basement</th>\n",
       "      <th>yr_built</th>\n",
       "      <th>yr_renovated</th>\n",
       "      <th>street</th>\n",
       "      <th>city</th>\n",
       "      <th>statezip</th>\n",
       "      <th>country</th>\n",
       "    </tr>\n",
       "  </thead>\n",
       "  <tbody>\n",
       "    <tr>\n",
       "      <th>0</th>\n",
       "      <td>2014-05-02 00:00:00</td>\n",
       "      <td>313000.0</td>\n",
       "      <td>3.0</td>\n",
       "      <td>1.50</td>\n",
       "      <td>1340</td>\n",
       "      <td>7912</td>\n",
       "      <td>1.5</td>\n",
       "      <td>0</td>\n",
       "      <td>0</td>\n",
       "      <td>3</td>\n",
       "      <td>1340</td>\n",
       "      <td>0</td>\n",
       "      <td>1955</td>\n",
       "      <td>2005</td>\n",
       "      <td>18810 Densmore Ave N</td>\n",
       "      <td>Shoreline</td>\n",
       "      <td>WA 98133</td>\n",
       "      <td>USA</td>\n",
       "    </tr>\n",
       "    <tr>\n",
       "      <th>1</th>\n",
       "      <td>2014-05-02 00:00:00</td>\n",
       "      <td>2384000.0</td>\n",
       "      <td>5.0</td>\n",
       "      <td>2.50</td>\n",
       "      <td>3650</td>\n",
       "      <td>9050</td>\n",
       "      <td>2.0</td>\n",
       "      <td>0</td>\n",
       "      <td>4</td>\n",
       "      <td>5</td>\n",
       "      <td>3370</td>\n",
       "      <td>280</td>\n",
       "      <td>1921</td>\n",
       "      <td>0</td>\n",
       "      <td>709 W Blaine St</td>\n",
       "      <td>Seattle</td>\n",
       "      <td>WA 98119</td>\n",
       "      <td>USA</td>\n",
       "    </tr>\n",
       "    <tr>\n",
       "      <th>2</th>\n",
       "      <td>2014-05-02 00:00:00</td>\n",
       "      <td>342000.0</td>\n",
       "      <td>3.0</td>\n",
       "      <td>2.00</td>\n",
       "      <td>1930</td>\n",
       "      <td>11947</td>\n",
       "      <td>1.0</td>\n",
       "      <td>0</td>\n",
       "      <td>0</td>\n",
       "      <td>4</td>\n",
       "      <td>1930</td>\n",
       "      <td>0</td>\n",
       "      <td>1966</td>\n",
       "      <td>0</td>\n",
       "      <td>26206-26214 143rd Ave SE</td>\n",
       "      <td>Kent</td>\n",
       "      <td>WA 98042</td>\n",
       "      <td>USA</td>\n",
       "    </tr>\n",
       "    <tr>\n",
       "      <th>3</th>\n",
       "      <td>2014-05-02 00:00:00</td>\n",
       "      <td>420000.0</td>\n",
       "      <td>3.0</td>\n",
       "      <td>2.25</td>\n",
       "      <td>2000</td>\n",
       "      <td>8030</td>\n",
       "      <td>1.0</td>\n",
       "      <td>0</td>\n",
       "      <td>0</td>\n",
       "      <td>4</td>\n",
       "      <td>1000</td>\n",
       "      <td>1000</td>\n",
       "      <td>1963</td>\n",
       "      <td>0</td>\n",
       "      <td>857 170th Pl NE</td>\n",
       "      <td>Bellevue</td>\n",
       "      <td>WA 98008</td>\n",
       "      <td>USA</td>\n",
       "    </tr>\n",
       "    <tr>\n",
       "      <th>4</th>\n",
       "      <td>2014-05-02 00:00:00</td>\n",
       "      <td>550000.0</td>\n",
       "      <td>4.0</td>\n",
       "      <td>2.50</td>\n",
       "      <td>1940</td>\n",
       "      <td>10500</td>\n",
       "      <td>1.0</td>\n",
       "      <td>0</td>\n",
       "      <td>0</td>\n",
       "      <td>4</td>\n",
       "      <td>1140</td>\n",
       "      <td>800</td>\n",
       "      <td>1976</td>\n",
       "      <td>1992</td>\n",
       "      <td>9105 170th Ave NE</td>\n",
       "      <td>Redmond</td>\n",
       "      <td>WA 98052</td>\n",
       "      <td>USA</td>\n",
       "    </tr>\n",
       "  </tbody>\n",
       "</table>\n",
       "</div>"
      ],
      "text/plain": [
       "                  date      price  bedrooms  bathrooms  sqft_living  sqft_lot  \\\n",
       "0  2014-05-02 00:00:00   313000.0       3.0       1.50         1340      7912   \n",
       "1  2014-05-02 00:00:00  2384000.0       5.0       2.50         3650      9050   \n",
       "2  2014-05-02 00:00:00   342000.0       3.0       2.00         1930     11947   \n",
       "3  2014-05-02 00:00:00   420000.0       3.0       2.25         2000      8030   \n",
       "4  2014-05-02 00:00:00   550000.0       4.0       2.50         1940     10500   \n",
       "\n",
       "   floors  waterfront  view  condition  sqft_above  sqft_basement  yr_built  \\\n",
       "0     1.5           0     0          3        1340              0      1955   \n",
       "1     2.0           0     4          5        3370            280      1921   \n",
       "2     1.0           0     0          4        1930              0      1966   \n",
       "3     1.0           0     0          4        1000           1000      1963   \n",
       "4     1.0           0     0          4        1140            800      1976   \n",
       "\n",
       "   yr_renovated                    street       city  statezip country  \n",
       "0          2005      18810 Densmore Ave N  Shoreline  WA 98133     USA  \n",
       "1             0           709 W Blaine St    Seattle  WA 98119     USA  \n",
       "2             0  26206-26214 143rd Ave SE       Kent  WA 98042     USA  \n",
       "3             0           857 170th Pl NE   Bellevue  WA 98008     USA  \n",
       "4          1992         9105 170th Ave NE    Redmond  WA 98052     USA  "
      ]
     },
     "execution_count": 163,
     "metadata": {},
     "output_type": "execute_result"
    }
   ],
   "source": [
    "data = pd.read_csv('house.csv')\n",
    "data.head()"
   ]
  },
  {
   "cell_type": "markdown",
   "id": "2b4c426a-2563-43ba-a01d-cbbf65f8a1cc",
   "metadata": {},
   "source": [
    "## 3)- Eliminación de las columnas irrelevantes"
   ]
  },
  {
   "cell_type": "markdown",
   "id": "4390aecf-df4a-46e4-a48b-9fff519e3081",
   "metadata": {},
   "source": [
    "#### Hay en total 4 columnas que he decidido eliminar al inicio, ya que veía claramente que no tenían ningún tipo de aporte para el modelo:"
   ]
  },
  {
   "cell_type": "markdown",
   "id": "97affbc5-cef3-4700-83a1-2757f162b6c5",
   "metadata": {},
   "source": [
    "##### 1- Country: Esto debido a que todas las filas del dataframe tenían el nombre de USA, ya que todas las viviendas se encuentran en estados unidos"
   ]
  },
  {
   "cell_type": "code",
   "execution_count": 164,
   "id": "0526035a-bf5d-4067-b75c-00e649a74590",
   "metadata": {},
   "outputs": [
    {
     "data": {
      "text/plain": [
       "country\n",
       "USA    4600\n",
       "Name: count, dtype: int64"
      ]
     },
     "execution_count": 164,
     "metadata": {},
     "output_type": "execute_result"
    }
   ],
   "source": [
    "data['country'].value_counts()"
   ]
  },
  {
   "cell_type": "code",
   "execution_count": 165,
   "id": "9f37d8c8-5055-4557-a2f2-a847b4932200",
   "metadata": {},
   "outputs": [],
   "source": [
    "data = data.drop(columns = 'country')"
   ]
  },
  {
   "cell_type": "markdown",
   "id": "0a2a26d8-d610-4412-b28d-31e689a5efb8",
   "metadata": {},
   "source": [
    "##### 2- Street: He decidido eliminar esta columna debido a la enorme variabilidad que tienen las observaciones. Al apenas repetirse las observaciones , le será imposible al poder hacer una estimación adecuada del impacto del valor de la columna en el precio de la casa"
   ]
  },
  {
   "cell_type": "code",
   "execution_count": 166,
   "id": "156a94c1-0609-40de-8dd2-609c61e4f7a7",
   "metadata": {},
   "outputs": [
    {
     "data": {
      "text/plain": [
       "4525"
      ]
     },
     "execution_count": 166,
     "metadata": {},
     "output_type": "execute_result"
    }
   ],
   "source": [
    "data['street'].value_counts().count()"
   ]
  },
  {
   "cell_type": "code",
   "execution_count": 167,
   "id": "3e67b73b-47f4-44e0-9ec4-caa4b3a98765",
   "metadata": {},
   "outputs": [
    {
     "data": {
      "text/plain": [
       "4600"
      ]
     },
     "execution_count": 167,
     "metadata": {},
     "output_type": "execute_result"
    }
   ],
   "source": [
    "len(data)"
   ]
  },
  {
   "cell_type": "code",
   "execution_count": 168,
   "id": "40980ece-4ac2-4dad-8531-3046b60b1206",
   "metadata": {},
   "outputs": [],
   "source": [
    "data = data.drop(columns = 'street')"
   ]
  },
  {
   "cell_type": "markdown",
   "id": "630ea694-e110-442a-b531-145a8063e973",
   "metadata": {},
   "source": [
    "##### 3- Date: Esta columna es totalmente irrelevante porque registra la fecha en la que se han obtenido los datos de cada observación"
   ]
  },
  {
   "cell_type": "code",
   "execution_count": 169,
   "id": "d8be1f2a-e27f-4f68-a17d-90891ffa86ed",
   "metadata": {},
   "outputs": [],
   "source": [
    "data = data.drop(columns = 'date')"
   ]
  },
  {
   "cell_type": "markdown",
   "id": "69cb7839-bccc-490a-bdb8-e516479e7280",
   "metadata": {},
   "source": [
    "##### 5- Waterfront: Esta columna fue eliminada al tener muy pocos valores verdaderos (1 ya que se trata de un registro booleano) y esto provoca que muy probablemente se comporten como un outlier que afecte negativamente al desarrollo del modelo"
   ]
  },
  {
   "cell_type": "code",
   "execution_count": 170,
   "id": "7e4eeeb6-3541-411c-98e3-fb010642cd79",
   "metadata": {},
   "outputs": [
    {
     "data": {
      "text/plain": [
       "waterfront\n",
       "0    4567\n",
       "1      33\n",
       "Name: count, dtype: int64"
      ]
     },
     "execution_count": 170,
     "metadata": {},
     "output_type": "execute_result"
    }
   ],
   "source": [
    "data['waterfront'].value_counts()"
   ]
  },
  {
   "cell_type": "code",
   "execution_count": 171,
   "id": "f4ef5ab7-41ff-48e4-a7dd-1794d3b24330",
   "metadata": {},
   "outputs": [],
   "source": [
    "data = data.drop(columns = 'waterfront')"
   ]
  },
  {
   "cell_type": "markdown",
   "id": "24c36fea-9e93-43b6-b660-2b91121a0338",
   "metadata": {},
   "source": [
    "## 4)- Creación de variables Dummy"
   ]
  },
  {
   "cell_type": "markdown",
   "id": "688478ee-a559-467f-a1e5-5e1cdea581bd",
   "metadata": {},
   "source": [
    "#### El dataframe una vez eliminadas las columnas irrelevantes solo contenía dos variables categóricas que eran city y statezip"
   ]
  },
  {
   "cell_type": "markdown",
   "id": "9568de39-7341-40b2-bea2-1da7d8e548a7",
   "metadata": {},
   "source": [
    "##### 1-) Primero codeamos las variables categóricas para que sean números en vez de palabras y de esta manera poder hacer luego el one hot encoder"
   ]
  },
  {
   "cell_type": "code",
   "execution_count": 172,
   "id": "c9e01a2b-9aca-4e29-88f7-84fa286b9deb",
   "metadata": {},
   "outputs": [
    {
     "data": {
      "text/html": [
       "<div>\n",
       "<style scoped>\n",
       "    .dataframe tbody tr th:only-of-type {\n",
       "        vertical-align: middle;\n",
       "    }\n",
       "\n",
       "    .dataframe tbody tr th {\n",
       "        vertical-align: top;\n",
       "    }\n",
       "\n",
       "    .dataframe thead th {\n",
       "        text-align: right;\n",
       "    }\n",
       "</style>\n",
       "<table border=\"1\" class=\"dataframe\">\n",
       "  <thead>\n",
       "    <tr style=\"text-align: right;\">\n",
       "      <th></th>\n",
       "      <th>price</th>\n",
       "      <th>bedrooms</th>\n",
       "      <th>bathrooms</th>\n",
       "      <th>sqft_living</th>\n",
       "      <th>sqft_lot</th>\n",
       "      <th>floors</th>\n",
       "      <th>view</th>\n",
       "      <th>condition</th>\n",
       "      <th>sqft_above</th>\n",
       "      <th>sqft_basement</th>\n",
       "      <th>yr_built</th>\n",
       "      <th>yr_renovated</th>\n",
       "      <th>city</th>\n",
       "      <th>statezip</th>\n",
       "    </tr>\n",
       "  </thead>\n",
       "  <tbody>\n",
       "    <tr>\n",
       "      <th>0</th>\n",
       "      <td>313000.0</td>\n",
       "      <td>3.0</td>\n",
       "      <td>1.50</td>\n",
       "      <td>1340</td>\n",
       "      <td>7912</td>\n",
       "      <td>1.5</td>\n",
       "      <td>0</td>\n",
       "      <td>3</td>\n",
       "      <td>1340</td>\n",
       "      <td>0</td>\n",
       "      <td>1955</td>\n",
       "      <td>2005</td>\n",
       "      <td>36</td>\n",
       "      <td>62</td>\n",
       "    </tr>\n",
       "    <tr>\n",
       "      <th>1</th>\n",
       "      <td>2384000.0</td>\n",
       "      <td>5.0</td>\n",
       "      <td>2.50</td>\n",
       "      <td>3650</td>\n",
       "      <td>9050</td>\n",
       "      <td>2.0</td>\n",
       "      <td>4</td>\n",
       "      <td>5</td>\n",
       "      <td>3370</td>\n",
       "      <td>280</td>\n",
       "      <td>1921</td>\n",
       "      <td>0</td>\n",
       "      <td>35</td>\n",
       "      <td>58</td>\n",
       "    </tr>\n",
       "    <tr>\n",
       "      <th>2</th>\n",
       "      <td>342000.0</td>\n",
       "      <td>3.0</td>\n",
       "      <td>2.00</td>\n",
       "      <td>1930</td>\n",
       "      <td>11947</td>\n",
       "      <td>1.0</td>\n",
       "      <td>0</td>\n",
       "      <td>4</td>\n",
       "      <td>1930</td>\n",
       "      <td>0</td>\n",
       "      <td>1966</td>\n",
       "      <td>0</td>\n",
       "      <td>18</td>\n",
       "      <td>26</td>\n",
       "    </tr>\n",
       "    <tr>\n",
       "      <th>3</th>\n",
       "      <td>420000.0</td>\n",
       "      <td>3.0</td>\n",
       "      <td>2.25</td>\n",
       "      <td>2000</td>\n",
       "      <td>8030</td>\n",
       "      <td>1.0</td>\n",
       "      <td>0</td>\n",
       "      <td>4</td>\n",
       "      <td>1000</td>\n",
       "      <td>1000</td>\n",
       "      <td>1963</td>\n",
       "      <td>0</td>\n",
       "      <td>3</td>\n",
       "      <td>7</td>\n",
       "    </tr>\n",
       "    <tr>\n",
       "      <th>4</th>\n",
       "      <td>550000.0</td>\n",
       "      <td>4.0</td>\n",
       "      <td>2.50</td>\n",
       "      <td>1940</td>\n",
       "      <td>10500</td>\n",
       "      <td>1.0</td>\n",
       "      <td>0</td>\n",
       "      <td>4</td>\n",
       "      <td>1140</td>\n",
       "      <td>800</td>\n",
       "      <td>1976</td>\n",
       "      <td>1992</td>\n",
       "      <td>31</td>\n",
       "      <td>31</td>\n",
       "    </tr>\n",
       "  </tbody>\n",
       "</table>\n",
       "</div>"
      ],
      "text/plain": [
       "       price  bedrooms  bathrooms  sqft_living  sqft_lot  floors  view  \\\n",
       "0   313000.0       3.0       1.50         1340      7912     1.5     0   \n",
       "1  2384000.0       5.0       2.50         3650      9050     2.0     4   \n",
       "2   342000.0       3.0       2.00         1930     11947     1.0     0   \n",
       "3   420000.0       3.0       2.25         2000      8030     1.0     0   \n",
       "4   550000.0       4.0       2.50         1940     10500     1.0     0   \n",
       "\n",
       "   condition  sqft_above  sqft_basement  yr_built  yr_renovated city statezip  \n",
       "0          3        1340              0      1955          2005   36       62  \n",
       "1          5        3370            280      1921             0   35       58  \n",
       "2          4        1930              0      1966             0   18       26  \n",
       "3          4        1000           1000      1963             0    3        7  \n",
       "4          4        1140            800      1976          1992   31       31  "
      ]
     },
     "execution_count": 172,
     "metadata": {},
     "output_type": "execute_result"
    }
   ],
   "source": [
    "labelEncoder = LabelEncoder()\n",
    "data.iloc[:,13]=labelEncoder.fit_transform(data.iloc[:,13])\n",
    "data.iloc[:,12]=labelEncoder.fit_transform(data.iloc[:,12])\n",
    "data.head()"
   ]
  },
  {
   "cell_type": "markdown",
   "id": "6546086c-0dea-4148-af8c-25ef80023067",
   "metadata": {},
   "source": [
    "##### 2-) Posteriormente, se realiza el one hot encoder y se manipulan en dos arrays diferentes para manejarlos con mayor facilidad."
   ]
  },
  {
   "cell_type": "code",
   "execution_count": 173,
   "id": "3344b4f6-5673-470c-825a-5acd5e26b7a5",
   "metadata": {},
   "outputs": [],
   "source": [
    "oneHotEnc= OneHotEncoder()\n",
    "data_dummy_city = oneHotEnc.fit_transform(data[['city']]).toarray()\n",
    "data_dummy_statezip = oneHotEnc.fit_transform(data[['statezip']]).toarray()"
   ]
  },
  {
   "cell_type": "markdown",
   "id": "a06aaa51-5b20-4e8e-b600-cb1d67fd1821",
   "metadata": {},
   "source": [
    "##### 3-) Una vez hecho el paso anterior ahora tocará eliminar una columna en cada una de nuestras arrays para evitar la multicolinealidad perfecta que podría arruinar nuestro modelo de regresión"
   ]
  },
  {
   "cell_type": "code",
   "execution_count": 174,
   "id": "4939e2e6-a977-456f-acbf-9e45936b5cf3",
   "metadata": {},
   "outputs": [],
   "source": [
    "data_dummy_city = np.delete(data_dummy_city, 0 ,axis = 1)\n",
    "data_dummy_statezip = np.delete(data_dummy_statezip, 0, axis = 1)"
   ]
  },
  {
   "cell_type": "markdown",
   "id": "4b59f72f-6fa6-47cf-b63a-bd4889ad5fc2",
   "metadata": {},
   "source": [
    "##### 4-) Finalmente, lo que hacemos es convertir ambos arrays en dos dataframes para posteriormente unirlos al dataframe principal sin antes eliminar también las columnas city y statezip"
   ]
  },
  {
   "cell_type": "code",
   "execution_count": 175,
   "id": "e04ed02a-7e69-47a9-8383-590e0b6adfd1",
   "metadata": {},
   "outputs": [
    {
     "data": {
      "text/html": [
       "<div>\n",
       "<style scoped>\n",
       "    .dataframe tbody tr th:only-of-type {\n",
       "        vertical-align: middle;\n",
       "    }\n",
       "\n",
       "    .dataframe tbody tr th {\n",
       "        vertical-align: top;\n",
       "    }\n",
       "\n",
       "    .dataframe thead th {\n",
       "        text-align: right;\n",
       "    }\n",
       "</style>\n",
       "<table border=\"1\" class=\"dataframe\">\n",
       "  <thead>\n",
       "    <tr style=\"text-align: right;\">\n",
       "      <th></th>\n",
       "      <th>price</th>\n",
       "      <th>bedrooms</th>\n",
       "      <th>bathrooms</th>\n",
       "      <th>sqft_living</th>\n",
       "      <th>sqft_lot</th>\n",
       "      <th>floors</th>\n",
       "      <th>view</th>\n",
       "      <th>condition</th>\n",
       "      <th>sqft_above</th>\n",
       "      <th>sqft_basement</th>\n",
       "      <th>...</th>\n",
       "      <th>33</th>\n",
       "      <th>34</th>\n",
       "      <th>35</th>\n",
       "      <th>36</th>\n",
       "      <th>37</th>\n",
       "      <th>38</th>\n",
       "      <th>39</th>\n",
       "      <th>40</th>\n",
       "      <th>41</th>\n",
       "      <th>42</th>\n",
       "    </tr>\n",
       "  </thead>\n",
       "  <tbody>\n",
       "    <tr>\n",
       "      <th>0</th>\n",
       "      <td>313000.0</td>\n",
       "      <td>3.0</td>\n",
       "      <td>1.50</td>\n",
       "      <td>1340</td>\n",
       "      <td>7912</td>\n",
       "      <td>1.5</td>\n",
       "      <td>0</td>\n",
       "      <td>3</td>\n",
       "      <td>1340</td>\n",
       "      <td>0</td>\n",
       "      <td>...</td>\n",
       "      <td>0.0</td>\n",
       "      <td>0.0</td>\n",
       "      <td>1.0</td>\n",
       "      <td>0.0</td>\n",
       "      <td>0.0</td>\n",
       "      <td>0.0</td>\n",
       "      <td>0.0</td>\n",
       "      <td>0.0</td>\n",
       "      <td>0.0</td>\n",
       "      <td>0.0</td>\n",
       "    </tr>\n",
       "    <tr>\n",
       "      <th>1</th>\n",
       "      <td>2384000.0</td>\n",
       "      <td>5.0</td>\n",
       "      <td>2.50</td>\n",
       "      <td>3650</td>\n",
       "      <td>9050</td>\n",
       "      <td>2.0</td>\n",
       "      <td>4</td>\n",
       "      <td>5</td>\n",
       "      <td>3370</td>\n",
       "      <td>280</td>\n",
       "      <td>...</td>\n",
       "      <td>0.0</td>\n",
       "      <td>1.0</td>\n",
       "      <td>0.0</td>\n",
       "      <td>0.0</td>\n",
       "      <td>0.0</td>\n",
       "      <td>0.0</td>\n",
       "      <td>0.0</td>\n",
       "      <td>0.0</td>\n",
       "      <td>0.0</td>\n",
       "      <td>0.0</td>\n",
       "    </tr>\n",
       "    <tr>\n",
       "      <th>2</th>\n",
       "      <td>342000.0</td>\n",
       "      <td>3.0</td>\n",
       "      <td>2.00</td>\n",
       "      <td>1930</td>\n",
       "      <td>11947</td>\n",
       "      <td>1.0</td>\n",
       "      <td>0</td>\n",
       "      <td>4</td>\n",
       "      <td>1930</td>\n",
       "      <td>0</td>\n",
       "      <td>...</td>\n",
       "      <td>0.0</td>\n",
       "      <td>0.0</td>\n",
       "      <td>0.0</td>\n",
       "      <td>0.0</td>\n",
       "      <td>0.0</td>\n",
       "      <td>0.0</td>\n",
       "      <td>0.0</td>\n",
       "      <td>0.0</td>\n",
       "      <td>0.0</td>\n",
       "      <td>0.0</td>\n",
       "    </tr>\n",
       "    <tr>\n",
       "      <th>3</th>\n",
       "      <td>420000.0</td>\n",
       "      <td>3.0</td>\n",
       "      <td>2.25</td>\n",
       "      <td>2000</td>\n",
       "      <td>8030</td>\n",
       "      <td>1.0</td>\n",
       "      <td>0</td>\n",
       "      <td>4</td>\n",
       "      <td>1000</td>\n",
       "      <td>1000</td>\n",
       "      <td>...</td>\n",
       "      <td>0.0</td>\n",
       "      <td>0.0</td>\n",
       "      <td>0.0</td>\n",
       "      <td>0.0</td>\n",
       "      <td>0.0</td>\n",
       "      <td>0.0</td>\n",
       "      <td>0.0</td>\n",
       "      <td>0.0</td>\n",
       "      <td>0.0</td>\n",
       "      <td>0.0</td>\n",
       "    </tr>\n",
       "    <tr>\n",
       "      <th>4</th>\n",
       "      <td>550000.0</td>\n",
       "      <td>4.0</td>\n",
       "      <td>2.50</td>\n",
       "      <td>1940</td>\n",
       "      <td>10500</td>\n",
       "      <td>1.0</td>\n",
       "      <td>0</td>\n",
       "      <td>4</td>\n",
       "      <td>1140</td>\n",
       "      <td>800</td>\n",
       "      <td>...</td>\n",
       "      <td>0.0</td>\n",
       "      <td>0.0</td>\n",
       "      <td>0.0</td>\n",
       "      <td>0.0</td>\n",
       "      <td>0.0</td>\n",
       "      <td>0.0</td>\n",
       "      <td>0.0</td>\n",
       "      <td>0.0</td>\n",
       "      <td>0.0</td>\n",
       "      <td>0.0</td>\n",
       "    </tr>\n",
       "  </tbody>\n",
       "</table>\n",
       "<p>5 rows × 131 columns</p>\n",
       "</div>"
      ],
      "text/plain": [
       "       price  bedrooms  bathrooms  sqft_living  sqft_lot  floors  view  \\\n",
       "0   313000.0       3.0       1.50         1340      7912     1.5     0   \n",
       "1  2384000.0       5.0       2.50         3650      9050     2.0     4   \n",
       "2   342000.0       3.0       2.00         1930     11947     1.0     0   \n",
       "3   420000.0       3.0       2.25         2000      8030     1.0     0   \n",
       "4   550000.0       4.0       2.50         1940     10500     1.0     0   \n",
       "\n",
       "   condition  sqft_above  sqft_basement  ...   33   34   35   36   37   38  \\\n",
       "0          3        1340              0  ...  0.0  0.0  1.0  0.0  0.0  0.0   \n",
       "1          5        3370            280  ...  0.0  1.0  0.0  0.0  0.0  0.0   \n",
       "2          4        1930              0  ...  0.0  0.0  0.0  0.0  0.0  0.0   \n",
       "3          4        1000           1000  ...  0.0  0.0  0.0  0.0  0.0  0.0   \n",
       "4          4        1140            800  ...  0.0  0.0  0.0  0.0  0.0  0.0   \n",
       "\n",
       "    39   40   41   42  \n",
       "0  0.0  0.0  0.0  0.0  \n",
       "1  0.0  0.0  0.0  0.0  \n",
       "2  0.0  0.0  0.0  0.0  \n",
       "3  0.0  0.0  0.0  0.0  \n",
       "4  0.0  0.0  0.0  0.0  \n",
       "\n",
       "[5 rows x 131 columns]"
      ]
     },
     "execution_count": 175,
     "metadata": {},
     "output_type": "execute_result"
    }
   ],
   "source": [
    "data_dummy_city = pd.DataFrame(data_dummy_city)\n",
    "data_dummy_statezip = pd.DataFrame(data_dummy_statezip)\n",
    "data = data.drop(columns = 'city')\n",
    "data = data.drop(columns = 'statezip')\n",
    "data = pd.concat([data,data_dummy_statezip,data_dummy_city], axis=1)\n",
    "data.head()"
   ]
  },
  {
   "cell_type": "markdown",
   "id": "3eb8d274-114c-4a71-b69b-b343a9bae6ec",
   "metadata": {},
   "source": [
    "## 5)- Estandarización de los datos"
   ]
  },
  {
   "cell_type": "markdown",
   "id": "85ecac73-de2b-429a-b717-9c4b861d93b3",
   "metadata": {},
   "source": [
    "#### Al ser un dataframe con escalas muy dispares (hay algunas columnas con valores que van de 0 a 5 y otras de 50 a 3000) esto podria alterar la regresion provocando que algunas variables influyan mucho mas que otras, ademas de que es necesario en algoritmos como los bosques aleatorios."
   ]
  },
  {
   "cell_type": "code",
   "execution_count": 176,
   "id": "f115814c-f227-41d7-82c6-39f2cc78a4fd",
   "metadata": {},
   "outputs": [
    {
     "data": {
      "text/html": [
       "<div>\n",
       "<style scoped>\n",
       "    .dataframe tbody tr th:only-of-type {\n",
       "        vertical-align: middle;\n",
       "    }\n",
       "\n",
       "    .dataframe tbody tr th {\n",
       "        vertical-align: top;\n",
       "    }\n",
       "\n",
       "    .dataframe thead th {\n",
       "        text-align: right;\n",
       "    }\n",
       "</style>\n",
       "<table border=\"1\" class=\"dataframe\">\n",
       "  <thead>\n",
       "    <tr style=\"text-align: right;\">\n",
       "      <th></th>\n",
       "      <th>price</th>\n",
       "      <th>bedrooms</th>\n",
       "      <th>bathrooms</th>\n",
       "      <th>sqft_living</th>\n",
       "      <th>sqft_lot</th>\n",
       "      <th>floors</th>\n",
       "      <th>view</th>\n",
       "      <th>condition</th>\n",
       "      <th>sqft_above</th>\n",
       "      <th>sqft_basement</th>\n",
       "      <th>...</th>\n",
       "      <th>33</th>\n",
       "      <th>34</th>\n",
       "      <th>35</th>\n",
       "      <th>36</th>\n",
       "      <th>37</th>\n",
       "      <th>38</th>\n",
       "      <th>39</th>\n",
       "      <th>40</th>\n",
       "      <th>41</th>\n",
       "      <th>42</th>\n",
       "    </tr>\n",
       "  </thead>\n",
       "  <tbody>\n",
       "    <tr>\n",
       "      <th>0</th>\n",
       "      <td>313000.0</td>\n",
       "      <td>-0.441122</td>\n",
       "      <td>-0.843204</td>\n",
       "      <td>-0.829971</td>\n",
       "      <td>-0.193434</td>\n",
       "      <td>-0.022416</td>\n",
       "      <td>-0.309194</td>\n",
       "      <td>-0.667112</td>\n",
       "      <td>-0.565224</td>\n",
       "      <td>-0.672464</td>\n",
       "      <td>...</td>\n",
       "      <td>0.0</td>\n",
       "      <td>0.0</td>\n",
       "      <td>1.0</td>\n",
       "      <td>0.0</td>\n",
       "      <td>0.0</td>\n",
       "      <td>0.0</td>\n",
       "      <td>0.0</td>\n",
       "      <td>0.0</td>\n",
       "      <td>0.0</td>\n",
       "      <td>0.0</td>\n",
       "    </tr>\n",
       "    <tr>\n",
       "      <th>1</th>\n",
       "      <td>2384000.0</td>\n",
       "      <td>1.759705</td>\n",
       "      <td>0.432802</td>\n",
       "      <td>1.568528</td>\n",
       "      <td>-0.161718</td>\n",
       "      <td>0.906555</td>\n",
       "      <td>4.830080</td>\n",
       "      <td>2.286416</td>\n",
       "      <td>1.789559</td>\n",
       "      <td>-0.069128</td>\n",
       "      <td>...</td>\n",
       "      <td>0.0</td>\n",
       "      <td>1.0</td>\n",
       "      <td>0.0</td>\n",
       "      <td>0.0</td>\n",
       "      <td>0.0</td>\n",
       "      <td>0.0</td>\n",
       "      <td>0.0</td>\n",
       "      <td>0.0</td>\n",
       "      <td>0.0</td>\n",
       "      <td>0.0</td>\n",
       "    </tr>\n",
       "    <tr>\n",
       "      <th>2</th>\n",
       "      <td>342000.0</td>\n",
       "      <td>-0.441122</td>\n",
       "      <td>-0.205201</td>\n",
       "      <td>-0.217367</td>\n",
       "      <td>-0.080977</td>\n",
       "      <td>-0.951388</td>\n",
       "      <td>-0.309194</td>\n",
       "      <td>0.809652</td>\n",
       "      <td>0.119171</td>\n",
       "      <td>-0.672464</td>\n",
       "      <td>...</td>\n",
       "      <td>0.0</td>\n",
       "      <td>0.0</td>\n",
       "      <td>0.0</td>\n",
       "      <td>0.0</td>\n",
       "      <td>0.0</td>\n",
       "      <td>0.0</td>\n",
       "      <td>0.0</td>\n",
       "      <td>0.0</td>\n",
       "      <td>0.0</td>\n",
       "      <td>0.0</td>\n",
       "    </tr>\n",
       "    <tr>\n",
       "      <th>3</th>\n",
       "      <td>420000.0</td>\n",
       "      <td>-0.441122</td>\n",
       "      <td>0.113800</td>\n",
       "      <td>-0.144686</td>\n",
       "      <td>-0.190145</td>\n",
       "      <td>-0.951388</td>\n",
       "      <td>-0.309194</td>\n",
       "      <td>0.809652</td>\n",
       "      <td>-0.959621</td>\n",
       "      <td>1.482306</td>\n",
       "      <td>...</td>\n",
       "      <td>0.0</td>\n",
       "      <td>0.0</td>\n",
       "      <td>0.0</td>\n",
       "      <td>0.0</td>\n",
       "      <td>0.0</td>\n",
       "      <td>0.0</td>\n",
       "      <td>0.0</td>\n",
       "      <td>0.0</td>\n",
       "      <td>0.0</td>\n",
       "      <td>0.0</td>\n",
       "    </tr>\n",
       "    <tr>\n",
       "      <th>4</th>\n",
       "      <td>550000.0</td>\n",
       "      <td>0.659291</td>\n",
       "      <td>0.432802</td>\n",
       "      <td>-0.206984</td>\n",
       "      <td>-0.121306</td>\n",
       "      <td>-0.951388</td>\n",
       "      <td>-0.309194</td>\n",
       "      <td>0.809652</td>\n",
       "      <td>-0.797222</td>\n",
       "      <td>1.051352</td>\n",
       "      <td>...</td>\n",
       "      <td>0.0</td>\n",
       "      <td>0.0</td>\n",
       "      <td>0.0</td>\n",
       "      <td>0.0</td>\n",
       "      <td>0.0</td>\n",
       "      <td>0.0</td>\n",
       "      <td>0.0</td>\n",
       "      <td>0.0</td>\n",
       "      <td>0.0</td>\n",
       "      <td>0.0</td>\n",
       "    </tr>\n",
       "  </tbody>\n",
       "</table>\n",
       "<p>5 rows × 131 columns</p>\n",
       "</div>"
      ],
      "text/plain": [
       "       price  bedrooms  bathrooms  sqft_living  sqft_lot    floors      view  \\\n",
       "0   313000.0 -0.441122  -0.843204    -0.829971 -0.193434 -0.022416 -0.309194   \n",
       "1  2384000.0  1.759705   0.432802     1.568528 -0.161718  0.906555  4.830080   \n",
       "2   342000.0 -0.441122  -0.205201    -0.217367 -0.080977 -0.951388 -0.309194   \n",
       "3   420000.0 -0.441122   0.113800    -0.144686 -0.190145 -0.951388 -0.309194   \n",
       "4   550000.0  0.659291   0.432802    -0.206984 -0.121306 -0.951388 -0.309194   \n",
       "\n",
       "   condition  sqft_above  sqft_basement  ...   33   34   35   36   37   38  \\\n",
       "0  -0.667112   -0.565224      -0.672464  ...  0.0  0.0  1.0  0.0  0.0  0.0   \n",
       "1   2.286416    1.789559      -0.069128  ...  0.0  1.0  0.0  0.0  0.0  0.0   \n",
       "2   0.809652    0.119171      -0.672464  ...  0.0  0.0  0.0  0.0  0.0  0.0   \n",
       "3   0.809652   -0.959621       1.482306  ...  0.0  0.0  0.0  0.0  0.0  0.0   \n",
       "4   0.809652   -0.797222       1.051352  ...  0.0  0.0  0.0  0.0  0.0  0.0   \n",
       "\n",
       "    39   40   41   42  \n",
       "0  0.0  0.0  0.0  0.0  \n",
       "1  0.0  0.0  0.0  0.0  \n",
       "2  0.0  0.0  0.0  0.0  \n",
       "3  0.0  0.0  0.0  0.0  \n",
       "4  0.0  0.0  0.0  0.0  \n",
       "\n",
       "[5 rows x 131 columns]"
      ]
     },
     "execution_count": 176,
     "metadata": {},
     "output_type": "execute_result"
    }
   ],
   "source": [
    "standScaler = StandardScaler()\n",
    "data[['bedrooms','sqft_living','bathrooms','sqft_lot','floors','view','condition',\n",
    "   'sqft_above','sqft_basement','yr_built','yr_renovated']]=data[['bedrooms','sqft_living','bathrooms','sqft_lot',\n",
    "    'floors','view','condition','sqft_above','sqft_basement','yr_built','yr_renovated']].astype(np.float32)\n",
    "data[['bedrooms','sqft_living','bathrooms','sqft_lot','floors','view','condition',\n",
    "   'sqft_above','sqft_basement','yr_built','yr_renovated']]=standScaler.fit_transform(data[['bedrooms','sqft_living',\n",
    "   'bathrooms','sqft_lot','floors','view','condition','sqft_above',\n",
    "   'sqft_basement','yr_built','yr_renovated']])\n",
    "data.head()"
   ]
  },
  {
   "cell_type": "markdown",
   "id": "8fb74f2f-1638-48fe-9590-0f3a3d73d2d0",
   "metadata": {},
   "source": [
    "##### (He estandarizado todas las columnas menos el precio, ya que es la variable dependiente y por ahora no será necesario estandarizarlo y las variables dummy, ya que son variables booleanas, solo 0 y 1)."
   ]
  },
  {
   "cell_type": "markdown",
   "id": "c7b2babd-e9a5-4098-a49b-da5d7808dbbb",
   "metadata": {},
   "source": [
    "## 6)- Optimización del dataframe"
   ]
  },
  {
   "cell_type": "markdown",
   "id": "eeecea28-4a33-4325-9ad0-b7496de66117",
   "metadata": {},
   "source": [
    "#### Ahora tenemos 131 columnas, lo cual es una cantidad enorme de columnas si tenemos pensado generar un escalado polinómico, ya que provocará problemas de dimensionalidad, así que he desarrollado 3 funciones que en conjunto se encargan de eliminar las variables que no son lo suficientemente relevantes a nivel estadístico de manera automática teniendo en cuenta su P-valor y su impacto en el R2 y R2 ajustado"
   ]
  },
  {
   "cell_type": "markdown",
   "id": "12203434-6da1-4ee7-9361-ae97ab8d84ad",
   "metadata": {},
   "source": [
    "##### 1-) getX: esta función lo que hace es añadir una columna llena de 1 al inicio necesaria para poder hacer la regresión lineal con OLS y así poder obtener los valores de la precisión del modelo y la relevancia de las variables además de convertir el dataframe en una lista de listas\n",
    "##### \"parámetros\" (data : corresponde al dataframe que queremos tratar)\n",
    "##### \"return\" (una lista de lista del dataframe)"
   ]
  },
  {
   "cell_type": "code",
   "execution_count": 177,
   "id": "0fd7559d-1033-4b19-8d47-cac598e5a8b8",
   "metadata": {},
   "outputs": [],
   "source": [
    "def getX(data : pd.DataFrame):\n",
    "    X = data.iloc[:,1:]\n",
    "    X = np.append(np.ones((len(X),1)).astype(int), values=X, axis = 1)\n",
    "    X = X[:,:].tolist()\n",
    "    return X"
   ]
  },
  {
   "cell_type": "markdown",
   "id": "28057da3-ac4b-4a57-8fe6-119964f61ac6",
   "metadata": {},
   "source": [
    "##### 2-) choseLast: este algoritmo lo que hace es valorar si quedarse con el nuevo modelo o el según cuanto se hayan modificado valores de R2 y R2 ajustado. Es parametrizable para poder probar con diferentes criterios de decisión y de esta manera poder encontrar el equilibrio entre la eliminación de variables y la puntuación de los mismos\n",
    "##### \"parámetros\" (R2before: es el valor de R2 que tenía el modelo antes de eliminar la última columna, R2Abefore: es el valor de R2 ajustado que tenía el modelo antes de eliminar la última columna,R2after: es el valor de R2 que tiene el modelo después de eliminar la última columna,R2Aafter: es el valor de R2 ajustado del modelo después de eliminar la última columna,AdjWins : es el valor mínimo de diferencia a favor del R2Ajustado para quedarse con el último modelo o no, worseningLimit: es el límite de empeoramiento que puede tener el R2 o el R2 ajustado cuando ambos son inferiores después de eliminar la última variable)\n",
    "##### \"return\" (un booleano indicando si se queda con el último modelo o no)"
   ]
  },
  {
   "cell_type": "code",
   "execution_count": 178,
   "id": "687c376e-7493-4113-a9bc-0e2b5d0e04ec",
   "metadata": {},
   "outputs": [],
   "source": [
    "def choseLast(R2before,R2Abefore,R2after,R2Aafter,R2AdjWins, worseningLimit):\n",
    "    if R2after<R2before:\n",
    "        if R2Aafter>R2Abefore:\n",
    "            if (R2before-R2after)-(R2Aafter-R2Abefore)>-R2AdjWins:\n",
    "                result = True\n",
    "            else:\n",
    "                result = False\n",
    "        else:\n",
    "            if (R2before-R2after)>worseningLimit or (R2Abefore-R2Aafter)>worseningLimit:\n",
    "                result = False\n",
    "            else:\n",
    "                result = True\n",
    "    else:\n",
    "        result=True\n",
    "    return result"
   ]
  },
  {
   "cell_type": "markdown",
   "id": "9aa4f11e-80cc-4f52-941c-a778e523cd15",
   "metadata": {},
   "source": [
    "##### 3-) optimizeDataset: esta función lo que hace es aplicar el algoritmo de reducción hacia atrás para según una serie de criterios suministrados a través de los parámetros de la función, escoge el modelo con el mejor equilibrio de volumen y precisión\n",
    "##### \"parámetros\":\n",
    "##### -data: es el dataframe original que quieres optimizar\n",
    "##### -SL: es el valor máximo de p-valor permitido para que la variable se mantenga dentro del dataframe\n",
    "##### -r2AdjWins: es el valor mínimo de diferencia a favor del R2Ajustado para quedarse con el último modelo o no\n",
    "##### -worseningLimit: es el límite de emparejamiento que puede tener el R2 o el R2 ajustado cuando ambos son inferiores después de eliminar la última variable\n",
    "##### \"return\" (el dataframe ya optimizado con menos columnas)"
   ]
  },
  {
   "cell_type": "code",
   "execution_count": 179,
   "id": "06d083a7-5d5d-4e7c-9574-9c8ca226d69b",
   "metadata": {},
   "outputs": [],
   "source": [
    "def optimizeDataset (data : pd.DataFrame, SL : float,r2AdjWins : float, worseningLimit : float) -> pd.DataFrame:\n",
    "    dataC = data.copy()\n",
    "    X = getX(data)\n",
    "    y = data.iloc[:,0]\n",
    "    reg_OLS = sm.OLS(endog = y, exog= X).fit()\n",
    "    prevR2=reg_OLS.rsquared\n",
    "    prevR2Adj=reg_OLS.rsquared_adj\n",
    "    finish = False\n",
    "    while not finish:\n",
    "        lista = reg_OLS.pvalues\n",
    "        maximo = lista.max()\n",
    "        if maximo > SL:\n",
    "            index = lista[lista == maximo].index\n",
    "            dataC.drop(dataC.columns[lista.index.get_loc(index[0])],axis = 1,inplace = True)\n",
    "            X = getX(dataC)\n",
    "            reg_OLS = sm.OLS(endog = y, exog= X).fit()\n",
    "            postR2=reg_OLS.rsquared\n",
    "            postR2Adj=reg_OLS.rsquared_adj\n",
    "            if choseLast(prevR2, prevR2Adj , postR2, postR2Adj,r2AdjWins,worseningLimit):\n",
    "                data = dataC.copy()\n",
    "                prevR2=postR2\n",
    "                prevR2Adj=postR2Adj\n",
    "            else:\n",
    "                finish=True\n",
    "        else:\n",
    "            finish = True\n",
    "    return data"
   ]
  },
  {
   "cell_type": "markdown",
   "id": "2e4a7091-442c-4832-8e9d-3bde14a00cd9",
   "metadata": {},
   "source": [
    "#### Una vez creadas las funciones para automatizar el proceso de reducción hacia atrás lo empiezo a ejecutar modificando los parámetros para obtener el mayor equilibrio entre tamaño y precisión."
   ]
  },
  {
   "cell_type": "markdown",
   "id": "667e9e68-1f24-4471-9c0a-887ab2148290",
   "metadata": {},
   "source": [
    "##### Obtenemos el R2 y el R2 ajustado original para comparar próximamente con el dataframe optimizado (el R2 y el R2 ajustado serán muy bajos, ya que este caso no sigue una tendencia lineal recta, pero sirve para saber el nivel de significación de las variables a nivel estadístico para el caso)"
   ]
  },
  {
   "cell_type": "code",
   "execution_count": 180,
   "id": "c7839e55-bd2c-4d9a-ba1a-70361c14d3d3",
   "metadata": {},
   "outputs": [],
   "source": [
    "X = getX(data)\n",
    "y = data.iloc[:,0]\n",
    "reg_OLS = sm.OLS(endog = y, exog= X).fit()"
   ]
  },
  {
   "cell_type": "code",
   "execution_count": 181,
   "id": "3b575dc5-f5ce-412e-85db-d718a8f2b31c",
   "metadata": {},
   "outputs": [
    {
     "data": {
      "text/plain": [
       "0.3019851934185368"
      ]
     },
     "execution_count": 181,
     "metadata": {},
     "output_type": "execute_result"
    }
   ],
   "source": [
    "r2 = reg_OLS.rsquared\n",
    "r2"
   ]
  },
  {
   "cell_type": "code",
   "execution_count": 182,
   "id": "547ef27f-f55c-4c08-ac36-d41d5276798d",
   "metadata": {},
   "outputs": [
    {
     "data": {
      "text/plain": [
       "0.2856764362554185"
      ]
     },
     "execution_count": 182,
     "metadata": {},
     "output_type": "execute_result"
    }
   ],
   "source": [
    "r2a = reg_OLS.rsquared_adj#\n",
    "r2a"
   ]
  },
  {
   "cell_type": "code",
   "execution_count": 183,
   "id": "fcc99f54-c485-4f57-aa35-e82d4281ee62",
   "metadata": {},
   "outputs": [
    {
     "data": {
      "text/plain": [
       "(4600, 131)"
      ]
     },
     "execution_count": 183,
     "metadata": {},
     "output_type": "execute_result"
    }
   ],
   "source": [
    "data.shape"
   ]
  },
  {
   "cell_type": "markdown",
   "id": "395960c8-fd1e-4fc2-a5b0-f75bb8f40757",
   "metadata": {},
   "source": [
    "##### Después de cambiar los parámetros en varias ocasiones he obtenido el resultado que considero que mejor se equilibra entre precisión y eficiencia"
   ]
  },
  {
   "cell_type": "code",
   "execution_count": 184,
   "id": "2ee28b84-f721-4c91-9873-654255094e07",
   "metadata": {},
   "outputs": [],
   "source": [
    "data = optimizeDataset(data, 0.05,0.03,0.02)"
   ]
  },
  {
   "cell_type": "code",
   "execution_count": 185,
   "id": "90d2c8f5-3b34-4025-8cae-c42bdde125a2",
   "metadata": {},
   "outputs": [],
   "source": [
    "X = getX(data)\n",
    "reg_OLS = sm.OLS(endog = y, exog= X).fit()"
   ]
  },
  {
   "cell_type": "code",
   "execution_count": 186,
   "id": "b58fc2b8-b479-41f9-b2dd-2c50898e04e0",
   "metadata": {},
   "outputs": [
    {
     "data": {
      "text/plain": [
       "0.27261898354246017"
      ]
     },
     "execution_count": 186,
     "metadata": {},
     "output_type": "execute_result"
    }
   ],
   "source": [
    "r2O = reg_OLS.rsquared\n",
    "r2O"
   ]
  },
  {
   "cell_type": "code",
   "execution_count": 187,
   "id": "9f87fadc-6094-42dc-836d-424f58558909",
   "metadata": {},
   "outputs": [
    {
     "data": {
      "text/plain": [
       "0.2683234263586558"
      ]
     },
     "execution_count": 187,
     "metadata": {},
     "output_type": "execute_result"
    }
   ],
   "source": [
    "r2aO = reg_OLS.rsquared_adj\n",
    "r2aO"
   ]
  },
  {
   "cell_type": "code",
   "execution_count": 188,
   "id": "6e520d40-d39e-4334-a562-6c3d8032f33b",
   "metadata": {},
   "outputs": [
    {
     "data": {
      "text/plain": [
       "(4600, 29)"
      ]
     },
     "execution_count": 188,
     "metadata": {},
     "output_type": "execute_result"
    }
   ],
   "source": [
    "data.shape"
   ]
  },
  {
   "cell_type": "markdown",
   "id": "91a980a3-16f7-41b1-ba1b-97346c205201",
   "metadata": {},
   "source": [
    "##### A sido una optimización bastante exitosa, ya que se ha eliminado el 88% de las columnas a cambio de reducir únicamente el 6% del R2 ajustado y el 10% del R2"
   ]
  },
  {
   "cell_type": "markdown",
   "id": "1284a752-6dd3-4ea0-87a2-a81dcd4b7f26",
   "metadata": {},
   "source": [
    "## 7)- Eliminación de los outliers"
   ]
  },
  {
   "cell_type": "markdown",
   "id": "60db2a0f-6961-4e57-a00d-a6a4ae3be712",
   "metadata": {},
   "source": [
    "#### Esta parte la hice después de probar el modelo de regresión polinómica al ver que no estaba dando unos buenos resultados, pero lo pongo aquí porque forma parte del procesamiento y la limpieza de los datos"
   ]
  },
  {
   "cell_type": "markdown",
   "id": "ed460d32-cb0f-44ba-baa5-9b544d7a2974",
   "metadata": {},
   "source": [
    "##### 1) Se eliminan las filas que tienen el precio igual a 0 porque esas filas estaban provocando que el modelo diese valores negativos a la hora de predecir, lo cual una vez que se han eliminado estas columnas no ha vuelto a ocurrir"
   ]
  },
  {
   "cell_type": "code",
   "execution_count": 189,
   "id": "4693956b-e001-48b0-b590-383e8293e32f",
   "metadata": {},
   "outputs": [],
   "source": [
    "indexPrice0 = data[data['price'] == 0].index\n",
    "data.drop(indexPrice0,inplace = True)"
   ]
  },
  {
   "cell_type": "code",
   "execution_count": 190,
   "id": "3a7e1e42-0eaa-4543-9fd2-329c3e5dd44e",
   "metadata": {},
   "outputs": [
    {
     "data": {
      "text/plain": [
       "(4551, 29)"
      ]
     },
     "execution_count": 190,
     "metadata": {},
     "output_type": "execute_result"
    }
   ],
   "source": [
    "data.shape"
   ]
  },
  {
   "cell_type": "markdown",
   "id": "20a0b612-63fb-4aa9-96b6-fe2280f523a4",
   "metadata": {},
   "source": [
    "##### 2) Se hace una visualización de los datos para ver de qué manera se podrían eliminar los outliers, se hace una visión de la distribución de los datos en cada columna"
   ]
  },
  {
   "cell_type": "code",
   "execution_count": 191,
   "id": "19c985d5-6163-419a-a2e7-968af377b338",
   "metadata": {},
   "outputs": [
    {
     "data": {
      "image/png": "[encoded data removed]",
      "text/plain": [
       "<Figure size 1200x700 with 1 Axes>"
      ]
     },
     "metadata": {},
     "output_type": "display_data"
    }
   ],
   "source": [
    "plt.figure(figsize=(12, 7))\n",
    "plt.hist(data['price'], bins=100, color='skyblue',range=(data['price'].min(), data['price'].max()))\n",
    "plt.title('Distribución de los Precios de las Casas', fontsize=18)\n",
    "plt.xlabel('Precio', fontsize=14)\n",
    "plt.ylabel('Frecuencia', fontsize=14)\n",
    "plt.xlim(data['price'].min(), data['price'].max())\n",
    "plt.show()"
   ]
  },
  {
   "cell_type": "markdown",
   "id": "bdc8fd31-988f-45da-a5cb-56bf398b77d5",
   "metadata": {},
   "source": [
    "##### Verlo de esta forma podría indicar que hay valores demasiado elevados que son muy poco frecuentes, ahora vamos a mirar desde el mínimo hasta el valor 12000000"
   ]
  },
  {
   "cell_type": "code",
   "execution_count": 192,
   "id": "14002b87-63ff-4aad-8599-0ce5319b6684",
   "metadata": {},
   "outputs": [
    {
     "data": {
      "image/png": "[encoded data removed]",
      "text/plain": [
       "<Figure size 1200x700 with 1 Axes>"
      ]
     },
     "metadata": {},
     "output_type": "display_data"
    }
   ],
   "source": [
    "plt.figure(figsize=(12, 7))\n",
    "plt.hist(data['price'], bins=100, color='skyblue',range=(data['price'].min(), 12000000))\n",
    "plt.title('Distribución de los Precios de las Casas', fontsize=18)\n",
    "plt.xlabel('Precio', fontsize=14)\n",
    "plt.ylabel('Frecuencia', fontsize=14)\n",
    "plt.xlim(data['price'].min(), 12000000)\n",
    "plt.show()"
   ]
  },
  {
   "cell_type": "markdown",
   "id": "4da4357e-101d-4e6c-b50b-df1b83c23077",
   "metadata": {},
   "source": [
    "##### Vamos a hacer otra visualización más, pero desde los 2 millones"
   ]
  },
  {
   "cell_type": "code",
   "execution_count": 193,
   "id": "410cdbc2-2e14-46fa-8d68-b387659c620e",
   "metadata": {},
   "outputs": [
    {
     "data": {
      "image/png": "[encoded data removed]",
      "text/plain": [
       "<Figure size 1200x700 with 1 Axes>"
      ]
     },
     "metadata": {},
     "output_type": "display_data"
    }
   ],
   "source": [
    "plt.figure(figsize=(12, 7))\n",
    "plt.hist(data['price'], bins=100, color='skyblue',range=(data['price'].min(), 2000000))\n",
    "plt.title('Distribución de los Precios de las Casas', fontsize=18)\n",
    "plt.xlabel('Precio', fontsize=14)\n",
    "plt.ylabel('Frecuencia', fontsize=14)\n",
    "plt.xlim(data['price'].min(), 2000000)\n",
    "plt.show()"
   ]
  },
  {
   "cell_type": "markdown",
   "id": "a7e88190-db74-43dc-a080-f9931b5082a0",
   "metadata": {},
   "source": [
    "##### Volvemos a hacer lo mismo pero desde el millón"
   ]
  },
  {
   "cell_type": "code",
   "execution_count": 194,
   "id": "b566230d-0e56-4cad-82db-ff0afb14628a",
   "metadata": {},
   "outputs": [
    {
     "data": {
      "image/png": "[encoded data removed]",
      "text/plain": [
       "<Figure size 1200x700 with 1 Axes>"
      ]
     },
     "metadata": {},
     "output_type": "display_data"
    }
   ],
   "source": [
    "plt.figure(figsize=(12, 7))\n",
    "plt.hist(data['price'], bins=100, color='skyblue',range=(data['price'].min(), 1000000))\n",
    "plt.title('Distribución de los Precios de las Casas', fontsize=18)\n",
    "plt.xlabel('Precio', fontsize=14)\n",
    "plt.ylabel('Frecuencia', fontsize=14)\n",
    "plt.xlim(data['price'].min(), 1000000)\n",
    "plt.show()"
   ]
  },
  {
   "cell_type": "markdown",
   "id": "9d73e16e-2f1e-4a36-b4d6-a0e7e9e61093",
   "metadata": {},
   "source": [
    "##### Eliminaremos todos los que estén por debajo de 150000 y todos los que estén por encima de los 1000000"
   ]
  },
  {
   "cell_type": "code",
   "execution_count": 195,
   "id": "8195a262-5844-4d9d-a8e0-6864a2c1b214",
   "metadata": {},
   "outputs": [],
   "source": [
    "data = data[data['price'] <= 1000000]\n",
    "data = data[data['price'] >= 150000]"
   ]
  },
  {
   "cell_type": "code",
   "execution_count": 196,
   "id": "b1a96407-dd6b-4072-9f09-84f86e3e8bfd",
   "metadata": {},
   "outputs": [
    {
     "data": {
      "text/plain": [
       "(4159, 29)"
      ]
     },
     "execution_count": 196,
     "metadata": {},
     "output_type": "execute_result"
    }
   ],
   "source": [
    "data.shape"
   ]
  },
  {
   "cell_type": "markdown",
   "id": "ca3b7f0c-2a32-4c61-980d-87bf0262f6de",
   "metadata": {},
   "source": [
    "##### Se vuelve a hacer la visualización de los datos del precio"
   ]
  },
  {
   "cell_type": "code",
   "execution_count": 197,
   "id": "b4c4a767-97da-461d-b1fb-7aece30b5f48",
   "metadata": {},
   "outputs": [
    {
     "data": {
      "image/png": "[encoded data removed]",
      "text/plain": [
       "<Figure size 1200x700 with 1 Axes>"
      ]
     },
     "metadata": {},
     "output_type": "display_data"
    }
   ],
   "source": [
    "plt.figure(figsize=(12, 7))\n",
    "plt.hist(data['price'], bins=100, color='skyblue',range=(data['price'].min(), data['price'].max()))\n",
    "plt.title('Distribución de los Precios de las Casas', fontsize=18)\n",
    "plt.xlabel('Precio', fontsize=14)\n",
    "plt.ylabel('Frecuencia', fontsize=14)\n",
    "plt.xlim(data['price'].min(),data['price'].max())\n",
    "plt.show()"
   ]
  },
  {
   "cell_type": "markdown",
   "id": "757dae35-6aa2-4208-a27c-be8537d80fb5",
   "metadata": {},
   "source": [
    "##### Así quedaría nuestra columna de precios, debido a que es la variable dependiente, no sería necesario normalizar los datos pese a que tenga un sesgo hacia la izquierda. Pasamos a analizar la siguiente columna"
   ]
  },
  {
   "cell_type": "code",
   "execution_count": 198,
   "id": "5a4cdf13-9665-478d-80e3-80fe208bb2e0",
   "metadata": {},
   "outputs": [
    {
     "data": {
      "image/png": "[encoded data removed]",
      "text/plain": [
       "<Figure size 1200x700 with 1 Axes>"
      ]
     },
     "metadata": {},
     "output_type": "display_data"
    }
   ],
   "source": [
    "plt.figure(figsize=(12, 7))\n",
    "plt.hist(data['bedrooms'], bins=10, color='skyblue',range=(data['bedrooms'].min(), data['bedrooms'].max()))\n",
    "plt.title('Distribución del numero de habitaciones', fontsize=18)\n",
    "plt.xlabel('Habitaciones', fontsize=14)\n",
    "plt.ylabel('Frecuencia', fontsize=14)\n",
    "plt.xlim(data['bedrooms'].min(), data['bedrooms'].max())\n",
    "plt.show()"
   ]
  },
  {
   "cell_type": "code",
   "execution_count": 199,
   "id": "89dcda07-87be-4329-8609-1910239c0b5c",
   "metadata": {},
   "outputs": [
    {
     "data": {
      "text/plain": [
       "bedrooms\n",
       "-0.441122    1935\n",
       " 0.659291    1332\n",
       "-1.541536     536\n",
       " 1.759705     269\n",
       " 2.860118      43\n",
       "-2.641949      32\n",
       " 3.960531      10\n",
       " 6.161359       1\n",
       " 5.060946       1\n",
       "Name: count, dtype: int64"
      ]
     },
     "execution_count": 199,
     "metadata": {},
     "output_type": "execute_result"
    }
   ],
   "source": [
    "data['bedrooms'].value_counts()"
   ]
  },
  {
   "cell_type": "markdown",
   "id": "cb2f4e39-d2f8-458a-aeef-3cb418ba56dc",
   "metadata": {},
   "source": [
    "##### Vamos a eliminar las filas con el valor inferior a -2 y superior a 2, ya que son valores anómalos y al ser muy poco frecuentes"
   ]
  },
  {
   "cell_type": "code",
   "execution_count": 200,
   "id": "78036014-9b70-4178-9ff1-0dcc4955a78f",
   "metadata": {},
   "outputs": [],
   "source": [
    "data = data[data['bedrooms'] <= 2]\n",
    "data = data[data['bedrooms'] >= -2]"
   ]
  },
  {
   "cell_type": "code",
   "execution_count": 201,
   "id": "a689aec5-ce40-4e71-ad53-31f6f507a8ce",
   "metadata": {},
   "outputs": [
    {
     "data": {
      "text/plain": [
       "(4072, 29)"
      ]
     },
     "execution_count": 201,
     "metadata": {},
     "output_type": "execute_result"
    }
   ],
   "source": [
    "data.shape"
   ]
  },
  {
   "cell_type": "markdown",
   "id": "3e3edf48-4c1e-4717-8b1f-8b1585ff5817",
   "metadata": {},
   "source": [
    "##### Ya se han eliminado los datos anómalos, ahora se procederá a eliminar los datos anómalos de la siguiente columna"
   ]
  },
  {
   "cell_type": "code",
   "execution_count": 202,
   "id": "fab48416-d75c-40ff-929a-ca54888bf343",
   "metadata": {},
   "outputs": [
    {
     "data": {
      "image/png": "[encoded data removed]",
      "text/plain": [
       "<Figure size 1200x700 with 1 Axes>"
      ]
     },
     "metadata": {},
     "output_type": "display_data"
    }
   ],
   "source": [
    "plt.figure(figsize=(12, 7))\n",
    "plt.hist(data['floors'], bins=10, color='skyblue',range=(data['floors'].min(), data['floors'].max()))\n",
    "plt.title('Distribución del numero de pisos', fontsize=18)\n",
    "plt.xlabel('Pisos', fontsize=14)\n",
    "plt.ylabel('Frecuencia', fontsize=14)\n",
    "plt.xlim(data['floors'].min(), data['floors'].max())\n",
    "plt.show()"
   ]
  },
  {
   "cell_type": "code",
   "execution_count": 203,
   "id": "fc98e68a-4cc6-4c7e-bad3-801ad35d0c23",
   "metadata": {},
   "outputs": [
    {
     "data": {
      "text/plain": [
       "floors\n",
       "-0.951388    1986\n",
       " 0.906555    1550\n",
       "-0.022416     394\n",
       " 2.764497     119\n",
       " 1.835526      22\n",
       " 3.693468       1\n",
       "Name: count, dtype: int64"
      ]
     },
     "execution_count": 203,
     "metadata": {},
     "output_type": "execute_result"
    }
   ],
   "source": [
    "data['floors'].value_counts()"
   ]
  },
  {
   "cell_type": "markdown",
   "id": "6912c17b-a6be-4b33-82eb-3728529365d8",
   "metadata": {},
   "source": [
    "##### Se eliminarán los datos superiores a 1 e inferiores a 2,7 y los datos superiores a 3"
   ]
  },
  {
   "cell_type": "code",
   "execution_count": 204,
   "id": "61e8a26f-2843-4c7e-b8e0-4d346fa6560a",
   "metadata": {},
   "outputs": [
    {
     "data": {
      "text/plain": [
       "(3930, 29)"
      ]
     },
     "execution_count": 204,
     "metadata": {},
     "output_type": "execute_result"
    }
   ],
   "source": [
    "data = data[(data['floors'] <= 1) | (data['floors'] >= 3)]\n",
    "data = data[data['floors'] <=3]\n",
    "data.shape"
   ]
  },
  {
   "cell_type": "markdown",
   "id": "29e80896-650b-4556-a62e-9d0daf8b7edf",
   "metadata": {},
   "source": [
    "##### Ahora se van a eliminar los outliers de la columna views"
   ]
  },
  {
   "cell_type": "code",
   "execution_count": 205,
   "id": "53aa548c-bd11-46d0-949e-e96beb40ac84",
   "metadata": {},
   "outputs": [
    {
     "data": {
      "image/png": "[encoded data removed]",
      "text/plain": [
       "<Figure size 1200x700 with 1 Axes>"
      ]
     },
     "metadata": {},
     "output_type": "display_data"
    }
   ],
   "source": [
    "plt.figure(figsize=(12, 7))\n",
    "plt.hist(data['view'], bins=10, color='skyblue',range=(data['view'].min(), data['view'].max()))\n",
    "plt.title('Distribución de la puntuacion de las vistas', fontsize=18)\n",
    "plt.xlabel('Puntuacion de las vistas', fontsize=14)\n",
    "plt.ylabel('Frecuencia', fontsize=14)\n",
    "plt.xlim(data['view'].min(), data['view'].max())\n",
    "plt.show()"
   ]
  },
  {
   "cell_type": "code",
   "execution_count": 206,
   "id": "42145892-59de-493e-b413-e3c65be89c01",
   "metadata": {},
   "outputs": [
    {
     "data": {
      "text/plain": [
       "view\n",
       "-0.309194    3646\n",
       " 2.260442     156\n",
       " 3.545261      57\n",
       " 0.975624      48\n",
       " 4.830080      23\n",
       "Name: count, dtype: int64"
      ]
     },
     "execution_count": 206,
     "metadata": {},
     "output_type": "execute_result"
    }
   ],
   "source": [
    "data['view'].value_counts()"
   ]
  },
  {
   "cell_type": "code",
   "execution_count": 207,
   "id": "58b3f305-aadf-4df1-b972-d51f7feeb01e",
   "metadata": {},
   "outputs": [
    {
     "data": {
      "text/html": [
       "<div>\n",
       "<style scoped>\n",
       "    .dataframe tbody tr th:only-of-type {\n",
       "        vertical-align: middle;\n",
       "    }\n",
       "\n",
       "    .dataframe tbody tr th {\n",
       "        vertical-align: top;\n",
       "    }\n",
       "\n",
       "    .dataframe thead th {\n",
       "        text-align: right;\n",
       "    }\n",
       "</style>\n",
       "<table border=\"1\" class=\"dataframe\">\n",
       "  <thead>\n",
       "    <tr style=\"text-align: right;\">\n",
       "      <th></th>\n",
       "      <th>price</th>\n",
       "      <th>view</th>\n",
       "    </tr>\n",
       "  </thead>\n",
       "  <tbody>\n",
       "    <tr>\n",
       "      <th>price</th>\n",
       "      <td>1.000000</td>\n",
       "      <td>0.198713</td>\n",
       "    </tr>\n",
       "    <tr>\n",
       "      <th>view</th>\n",
       "      <td>0.198713</td>\n",
       "      <td>1.000000</td>\n",
       "    </tr>\n",
       "  </tbody>\n",
       "</table>\n",
       "</div>"
      ],
      "text/plain": [
       "          price      view\n",
       "price  1.000000  0.198713\n",
       "view   0.198713  1.000000"
      ]
     },
     "execution_count": 207,
     "metadata": {},
     "output_type": "execute_result"
    }
   ],
   "source": [
    "data[['price','view']].corr()"
   ]
  },
  {
   "cell_type": "markdown",
   "id": "9a75da5b-09fc-4058-b0e7-91a68a8d88cc",
   "metadata": {},
   "source": [
    "##### Pese a tener una correlación baja, es posible que tenga una relación no lineal con el precio de la casa, así que mantendremos la columna sobre todo para ser aprovechada en el random forest"
   ]
  },
  {
   "cell_type": "markdown",
   "id": "c19d4b42-f965-41a6-9937-3bc849bc95c6",
   "metadata": {},
   "source": [
    "##### Pasamos a analizar la siguiente columna"
   ]
  },
  {
   "cell_type": "code",
   "execution_count": 208,
   "id": "7df55d1f-67d7-4ccd-8a31-633b7380ff5f",
   "metadata": {},
   "outputs": [
    {
     "data": {
      "image/png": "[encoded data removed]",
      "text/plain": [
       "<Figure size 1200x700 with 1 Axes>"
      ]
     },
     "metadata": {},
     "output_type": "display_data"
    }
   ],
   "source": [
    "plt.figure(figsize=(12, 7))\n",
    "plt.hist(data['condition'], bins=10, color='skyblue',range=(data['condition'].min(), data['condition'].max()))\n",
    "plt.title('Distribución de la condicion de los hogares', fontsize=18)\n",
    "plt.xlabel('Puntuacion de las condiciones', fontsize=14)\n",
    "plt.ylabel('Frecuencia', fontsize=14)\n",
    "plt.xlim(data['condition'].min(), data['condition'].max())\n",
    "plt.show()"
   ]
  },
  {
   "cell_type": "code",
   "execution_count": 209,
   "id": "f88cf922-864d-45d2-8488-e1003c2aa7be",
   "metadata": {},
   "outputs": [
    {
     "data": {
      "text/plain": [
       "condition\n",
       "-0.667112    2430\n",
       " 0.809652    1119\n",
       " 2.286416     354\n",
       "-2.143876      22\n",
       "-3.620641       5\n",
       "Name: count, dtype: int64"
      ]
     },
     "execution_count": 209,
     "metadata": {},
     "output_type": "execute_result"
    }
   ],
   "source": [
    "data['condition'].value_counts()"
   ]
  },
  {
   "cell_type": "markdown",
   "id": "6088b621-0150-4d28-8d4b-b95ca7514443",
   "metadata": {},
   "source": [
    "##### Todos los valores inferiores a -2 serán eliminados al ser considerados outliers"
   ]
  },
  {
   "cell_type": "code",
   "execution_count": 210,
   "id": "44b52e04-5951-44bb-88b3-c442274d2a68",
   "metadata": {},
   "outputs": [],
   "source": [
    "data = data[data['condition'] >= -2]"
   ]
  },
  {
   "cell_type": "code",
   "execution_count": 211,
   "id": "53bde110-e100-453d-ae74-02fd2e5edbef",
   "metadata": {},
   "outputs": [
    {
     "data": {
      "text/plain": [
       "(3903, 29)"
      ]
     },
     "execution_count": 211,
     "metadata": {},
     "output_type": "execute_result"
    }
   ],
   "source": [
    "data.shape"
   ]
  },
  {
   "cell_type": "markdown",
   "id": "52eb91f1-77aa-4f52-a909-671a47a0de98",
   "metadata": {},
   "source": [
    "##### Pasamos a la siguiente columna"
   ]
  },
  {
   "cell_type": "code",
   "execution_count": 212,
   "id": "e56b5cfc-2328-4197-bba9-a6e56236a541",
   "metadata": {},
   "outputs": [
    {
     "data": {
      "image/png": "[encoded data removed]",
      "text/plain": [
       "<Figure size 1200x700 with 1 Axes>"
      ]
     },
     "metadata": {},
     "output_type": "display_data"
    }
   ],
   "source": [
    "plt.figure(figsize=(12, 7))\n",
    "plt.hist(data['sqft_above'], bins=30, color='skyblue',range=(data['sqft_above'].min(), data['sqft_above'].max()))\n",
    "plt.title('Distribución de la superficie construida', fontsize=18)\n",
    "plt.xlabel('Superficie construida', fontsize=14)\n",
    "plt.ylabel('Frecuencia', fontsize=14)\n",
    "plt.xlim(data['sqft_above'].min(), data['sqft_above'].max())\n",
    "plt.show()"
   ]
  },
  {
   "cell_type": "markdown",
   "id": "c209b15a-34d5-49c0-b09a-28470b76b9e2",
   "metadata": {},
   "source": [
    "##### Primero vamos a eliminar el sesgo que hay hacia la izquierda dentro de esta distribución"
   ]
  },
  {
   "cell_type": "code",
   "execution_count": 213,
   "id": "160cfa6e-e613-40a6-b7f4-26c61e9f0b96",
   "metadata": {},
   "outputs": [],
   "source": [
    "data.loc[:,'sqft_above_yeojohnson'] = pt.fit_transform(data[['sqft_above']])"
   ]
  },
  {
   "cell_type": "code",
   "execution_count": 214,
   "id": "229a7122-a9c9-4796-9ada-96577645991a",
   "metadata": {},
   "outputs": [
    {
     "data": {
      "image/png": "[encoded data removed]",
      "text/plain": [
       "<Figure size 1200x700 with 1 Axes>"
      ]
     },
     "metadata": {},
     "output_type": "display_data"
    }
   ],
   "source": [
    "plt.figure(figsize=(12, 7))\n",
    "plt.hist(data['sqft_above_yeojohnson'], bins=30, color='skyblue',range=(data['sqft_above_yeojohnson'].min(), data['sqft_above_yeojohnson'].max()))\n",
    "plt.title('Distribución de la superficie construida', fontsize=18)\n",
    "plt.xlabel('Superficie construida', fontsize=14)\n",
    "plt.ylabel('Frecuencia', fontsize=14)\n",
    "plt.xlim(data['sqft_above_yeojohnson'].min(), data['sqft_above_yeojohnson'].max())\n",
    "plt.show()"
   ]
  },
  {
   "cell_type": "markdown",
   "id": "7a6e8d05-6266-48ac-9f14-4505d5a84b5d",
   "metadata": {},
   "source": [
    "##### Por último se van a eliminar los valores superiores a dos e inferiores a dos"
   ]
  },
  {
   "cell_type": "code",
   "execution_count": 216,
   "id": "9216516d-1716-4150-9d31-2b0b983bc41d",
   "metadata": {},
   "outputs": [],
   "source": [
    "data = data[data['sqft_above_yeojohnson'] <= 2]\n",
    "data = data[data['sqft_above_yeojohnson'] >= -2]"
   ]
  },
  {
   "cell_type": "code",
   "execution_count": 217,
   "id": "53eaa649-89b2-45a7-8a35-9967e20096ee",
   "metadata": {},
   "outputs": [
    {
     "data": {
      "text/plain": [
       "(3841, 30)"
      ]
     },
     "execution_count": 217,
     "metadata": {},
     "output_type": "execute_result"
    }
   ],
   "source": [
    "data.shape"
   ]
  },
  {
   "cell_type": "markdown",
   "id": "caf1eba3-5519-4597-90a9-2c6d89768ca9",
   "metadata": {},
   "source": [
    "##### Ahora pasamos a la última columna con variable continua"
   ]
  },
  {
   "cell_type": "code",
   "execution_count": 218,
   "id": "cb31e4af-8d13-4d8d-9b8e-d076f9851d45",
   "metadata": {},
   "outputs": [
    {
     "data": {
      "image/png": "[encoded data removed]",
      "text/plain": [
       "<Figure size 1200x700 with 1 Axes>"
      ]
     },
     "metadata": {},
     "output_type": "display_data"
    }
   ],
   "source": [
    "plt.figure(figsize=(12, 7))\n",
    "plt.hist(data['sqft_basement'], bins=30, color='skyblue',range=(data['sqft_basement'].min(), data['sqft_basement'].max()))\n",
    "plt.title('Distribución del sotano', fontsize=18)\n",
    "plt.xlabel('Superficie total del sotano', fontsize=14)\n",
    "plt.ylabel('Frecuencia', fontsize=14)\n",
    "plt.xlim(data['sqft_basement'].min(), data['sqft_basement'].max())\n",
    "plt.show()"
   ]
  },
  {
   "cell_type": "code",
   "execution_count": 219,
   "id": "af6420d4-416c-4bac-bcbd-d8dc8201d64b",
   "metadata": {},
   "outputs": [
    {
     "data": {
      "text/html": [
       "<div>\n",
       "<style scoped>\n",
       "    .dataframe tbody tr th:only-of-type {\n",
       "        vertical-align: middle;\n",
       "    }\n",
       "\n",
       "    .dataframe tbody tr th {\n",
       "        vertical-align: top;\n",
       "    }\n",
       "\n",
       "    .dataframe thead th {\n",
       "        text-align: right;\n",
       "    }\n",
       "</style>\n",
       "<table border=\"1\" class=\"dataframe\">\n",
       "  <thead>\n",
       "    <tr style=\"text-align: right;\">\n",
       "      <th></th>\n",
       "      <th>price</th>\n",
       "      <th>sqft_basement</th>\n",
       "    </tr>\n",
       "  </thead>\n",
       "  <tbody>\n",
       "    <tr>\n",
       "      <th>price</th>\n",
       "      <td>1.000000</td>\n",
       "      <td>0.229295</td>\n",
       "    </tr>\n",
       "    <tr>\n",
       "      <th>sqft_basement</th>\n",
       "      <td>0.229295</td>\n",
       "      <td>1.000000</td>\n",
       "    </tr>\n",
       "  </tbody>\n",
       "</table>\n",
       "</div>"
      ],
      "text/plain": [
       "                  price  sqft_basement\n",
       "price          1.000000       0.229295\n",
       "sqft_basement  0.229295       1.000000"
      ]
     },
     "execution_count": 219,
     "metadata": {},
     "output_type": "execute_result"
    }
   ],
   "source": [
    "data[['price','sqft_basement']].corr()"
   ]
  },
  {
   "cell_type": "markdown",
   "id": "c33894df-5366-4eb3-bec3-31e841dfd9e4",
   "metadata": {},
   "source": [
    "##### La mayoría de las casas no tienen sótano, y por eso está dominado por el 0, pese a tener una baja correlación lineal, es posible que tenga una relación no lineal así que lo mantendremos para poder aprovecharlo con el random forest"
   ]
  },
  {
   "cell_type": "markdown",
   "id": "a94ceee3-3513-4ce9-8f26-079291deadb4",
   "metadata": {},
   "source": [
    "## 7) Guardado del dataframe ya limpiado en un csv"
   ]
  },
  {
   "cell_type": "markdown",
   "id": "b5c0034c-a89d-49d6-8b1d-926f1d01f70a",
   "metadata": {},
   "source": [
    "#### Ahora que ya hemos procesado y limpiado los datos procedemos a registrarlos en un csv"
   ]
  },
  {
   "cell_type": "code",
   "execution_count": 221,
   "id": "a9575724-6768-4a25-a4ad-d8ac7baaa148",
   "metadata": {},
   "outputs": [
    {
     "data": {
      "text/html": [
       "<div>\n",
       "<style scoped>\n",
       "    .dataframe tbody tr th:only-of-type {\n",
       "        vertical-align: middle;\n",
       "    }\n",
       "\n",
       "    .dataframe tbody tr th {\n",
       "        vertical-align: top;\n",
       "    }\n",
       "\n",
       "    .dataframe thead th {\n",
       "        text-align: right;\n",
       "    }\n",
       "</style>\n",
       "<table border=\"1\" class=\"dataframe\">\n",
       "  <thead>\n",
       "    <tr style=\"text-align: right;\">\n",
       "      <th></th>\n",
       "      <th>price</th>\n",
       "      <th>bedrooms</th>\n",
       "      <th>floors</th>\n",
       "      <th>view</th>\n",
       "      <th>condition</th>\n",
       "      <th>sqft_above</th>\n",
       "      <th>sqft_basement</th>\n",
       "      <th>2</th>\n",
       "      <th>20</th>\n",
       "      <th>22</th>\n",
       "      <th>...</th>\n",
       "      <th>57</th>\n",
       "      <th>58</th>\n",
       "      <th>62</th>\n",
       "      <th>63</th>\n",
       "      <th>72</th>\n",
       "      <th>73</th>\n",
       "      <th>2</th>\n",
       "      <th>20</th>\n",
       "      <th>22</th>\n",
       "      <th>sqft_above_yeojohnson</th>\n",
       "    </tr>\n",
       "  </thead>\n",
       "  <tbody>\n",
       "    <tr>\n",
       "      <th>0</th>\n",
       "      <td>313000.0</td>\n",
       "      <td>-0.441122</td>\n",
       "      <td>-0.022416</td>\n",
       "      <td>-0.309194</td>\n",
       "      <td>-0.667112</td>\n",
       "      <td>-0.565224</td>\n",
       "      <td>-0.672464</td>\n",
       "      <td>0.0</td>\n",
       "      <td>0.0</td>\n",
       "      <td>0.0</td>\n",
       "      <td>...</td>\n",
       "      <td>0.0</td>\n",
       "      <td>0.0</td>\n",
       "      <td>0.0</td>\n",
       "      <td>0.0</td>\n",
       "      <td>0.0</td>\n",
       "      <td>0.0</td>\n",
       "      <td>0.0</td>\n",
       "      <td>0.0</td>\n",
       "      <td>0.0</td>\n",
       "      <td>-0.443794</td>\n",
       "    </tr>\n",
       "    <tr>\n",
       "      <th>2</th>\n",
       "      <td>342000.0</td>\n",
       "      <td>-0.441122</td>\n",
       "      <td>-0.951388</td>\n",
       "      <td>-0.309194</td>\n",
       "      <td>0.809652</td>\n",
       "      <td>0.119171</td>\n",
       "      <td>-0.672464</td>\n",
       "      <td>0.0</td>\n",
       "      <td>0.0</td>\n",
       "      <td>0.0</td>\n",
       "      <td>...</td>\n",
       "      <td>0.0</td>\n",
       "      <td>0.0</td>\n",
       "      <td>0.0</td>\n",
       "      <td>0.0</td>\n",
       "      <td>0.0</td>\n",
       "      <td>0.0</td>\n",
       "      <td>0.0</td>\n",
       "      <td>0.0</td>\n",
       "      <td>0.0</td>\n",
       "      <td>0.531898</td>\n",
       "    </tr>\n",
       "    <tr>\n",
       "      <th>3</th>\n",
       "      <td>420000.0</td>\n",
       "      <td>-0.441122</td>\n",
       "      <td>-0.951388</td>\n",
       "      <td>-0.309194</td>\n",
       "      <td>0.809652</td>\n",
       "      <td>-0.959621</td>\n",
       "      <td>1.482306</td>\n",
       "      <td>0.0</td>\n",
       "      <td>0.0</td>\n",
       "      <td>0.0</td>\n",
       "      <td>...</td>\n",
       "      <td>0.0</td>\n",
       "      <td>0.0</td>\n",
       "      <td>0.0</td>\n",
       "      <td>0.0</td>\n",
       "      <td>0.0</td>\n",
       "      <td>0.0</td>\n",
       "      <td>1.0</td>\n",
       "      <td>0.0</td>\n",
       "      <td>0.0</td>\n",
       "      <td>-1.199296</td>\n",
       "    </tr>\n",
       "    <tr>\n",
       "      <th>4</th>\n",
       "      <td>550000.0</td>\n",
       "      <td>0.659291</td>\n",
       "      <td>-0.951388</td>\n",
       "      <td>-0.309194</td>\n",
       "      <td>0.809652</td>\n",
       "      <td>-0.797222</td>\n",
       "      <td>1.051352</td>\n",
       "      <td>0.0</td>\n",
       "      <td>0.0</td>\n",
       "      <td>0.0</td>\n",
       "      <td>...</td>\n",
       "      <td>0.0</td>\n",
       "      <td>0.0</td>\n",
       "      <td>0.0</td>\n",
       "      <td>0.0</td>\n",
       "      <td>0.0</td>\n",
       "      <td>0.0</td>\n",
       "      <td>0.0</td>\n",
       "      <td>0.0</td>\n",
       "      <td>0.0</td>\n",
       "      <td>-0.871731</td>\n",
       "    </tr>\n",
       "    <tr>\n",
       "      <th>5</th>\n",
       "      <td>490000.0</td>\n",
       "      <td>-1.541536</td>\n",
       "      <td>-0.951388</td>\n",
       "      <td>-0.309194</td>\n",
       "      <td>-0.667112</td>\n",
       "      <td>-1.098820</td>\n",
       "      <td>-0.672464</td>\n",
       "      <td>0.0</td>\n",
       "      <td>0.0</td>\n",
       "      <td>0.0</td>\n",
       "      <td>...</td>\n",
       "      <td>0.0</td>\n",
       "      <td>0.0</td>\n",
       "      <td>0.0</td>\n",
       "      <td>0.0</td>\n",
       "      <td>0.0</td>\n",
       "      <td>0.0</td>\n",
       "      <td>0.0</td>\n",
       "      <td>0.0</td>\n",
       "      <td>0.0</td>\n",
       "      <td>-1.498083</td>\n",
       "    </tr>\n",
       "  </tbody>\n",
       "</table>\n",
       "<p>5 rows × 30 columns</p>\n",
       "</div>"
      ],
      "text/plain": [
       "      price  bedrooms    floors      view  condition  sqft_above  \\\n",
       "0  313000.0 -0.441122 -0.022416 -0.309194  -0.667112   -0.565224   \n",
       "2  342000.0 -0.441122 -0.951388 -0.309194   0.809652    0.119171   \n",
       "3  420000.0 -0.441122 -0.951388 -0.309194   0.809652   -0.959621   \n",
       "4  550000.0  0.659291 -0.951388 -0.309194   0.809652   -0.797222   \n",
       "5  490000.0 -1.541536 -0.951388 -0.309194  -0.667112   -1.098820   \n",
       "\n",
       "   sqft_basement    2   20   22  ...   57   58   62   63   72   73    2   20  \\\n",
       "0      -0.672464  0.0  0.0  0.0  ...  0.0  0.0  0.0  0.0  0.0  0.0  0.0  0.0   \n",
       "2      -0.672464  0.0  0.0  0.0  ...  0.0  0.0  0.0  0.0  0.0  0.0  0.0  0.0   \n",
       "3       1.482306  0.0  0.0  0.0  ...  0.0  0.0  0.0  0.0  0.0  0.0  1.0  0.0   \n",
       "4       1.051352  0.0  0.0  0.0  ...  0.0  0.0  0.0  0.0  0.0  0.0  0.0  0.0   \n",
       "5      -0.672464  0.0  0.0  0.0  ...  0.0  0.0  0.0  0.0  0.0  0.0  0.0  0.0   \n",
       "\n",
       "    22  sqft_above_yeojohnson  \n",
       "0  0.0              -0.443794  \n",
       "2  0.0               0.531898  \n",
       "3  0.0              -1.199296  \n",
       "4  0.0              -0.871731  \n",
       "5  0.0              -1.498083  \n",
       "\n",
       "[5 rows x 30 columns]"
      ]
     },
     "execution_count": 221,
     "metadata": {},
     "output_type": "execute_result"
    }
   ],
   "source": [
    "data.head()"
   ]
  },
  {
   "cell_type": "code",
   "execution_count": 223,
   "id": "1411e981-acc6-47db-9687-53ab192a797a",
   "metadata": {},
   "outputs": [],
   "source": [
    "data.to_csv('Data_house_cleaned.csv',index = False)"
   ]
  },
  {
   "cell_type": "code",
   "execution_count": null,
   "id": "871341ac-343f-4705-afac-155469eb9eaf",
   "metadata": {},
   "outputs": [],
   "source": []
  }
 ],
 "metadata": {
  "kernelspec": {
   "display_name": "Python 3 (ipykernel)",
   "language": "python",
   "name": "python3"
  },
  "language_info": {
   "codemirror_mode": {
    "name": "ipython",
    "version": 3
   },
   "file_extension": ".py",
   "mimetype": "text/x-python",
   "name": "python",
   "nbconvert_exporter": "python",
   "pygments_lexer": "ipython3",
   "version": "3.8.15"
  }
 },
 "nbformat": 4,
 "nbformat_minor": 5
}
