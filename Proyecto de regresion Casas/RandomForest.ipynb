{
 "cells": [
  {
   "cell_type": "markdown",
   "id": "8ae11e15-5e7a-4bca-8cbc-eec8e16060e0",
   "metadata": {},
   "source": [
    "# Random Forest"
   ]
  },
  {
   "cell_type": "markdown",
   "id": "f485c88a-ff7c-4bc5-aa21-55eb362ca38f",
   "metadata": {},
   "source": [
    "## 1)- Importamos todas las librerías que necesitaremos para nuestro proyecto"
   ]
  },
  {
   "cell_type": "code",
   "execution_count": 1,
   "id": "9fd17b51-6465-4d71-8f46-187b73722753",
   "metadata": {},
   "outputs": [],
   "source": [
    "import pandas as pd\n",
    "import numpy as np\n",
    "import matplotlib.pyplot as plt\n",
    "from sklearn.model_selection import train_test_split,GridSearchCV\n",
    "from sklearn.ensemble import RandomForestRegressor\n",
    "from sklearn.metrics import mean_absolute_error, mean_squared_error"
   ]
  },
  {
   "cell_type": "markdown",
   "id": "9232e04e-ab34-4216-b8c3-db2b6988219e",
   "metadata": {},
   "source": [
    "## 2)- Ahora vamos a leer el csv y preparar los conjuntos de datos"
   ]
  },
  {
   "cell_type": "code",
   "execution_count": 2,
   "id": "25e6bdab-d6f0-4da6-b9c7-f1d3f6ee5d5b",
   "metadata": {},
   "outputs": [
    {
     "data": {
      "text/html": [
       "<div>\n",
       "<style scoped>\n",
       "    .dataframe tbody tr th:only-of-type {\n",
       "        vertical-align: middle;\n",
       "    }\n",
       "\n",
       "    .dataframe tbody tr th {\n",
       "        vertical-align: top;\n",
       "    }\n",
       "\n",
       "    .dataframe thead th {\n",
       "        text-align: right;\n",
       "    }\n",
       "</style>\n",
       "<table border=\"1\" class=\"dataframe\">\n",
       "  <thead>\n",
       "    <tr style=\"text-align: right;\">\n",
       "      <th></th>\n",
       "      <th>price</th>\n",
       "      <th>bedrooms</th>\n",
       "      <th>floors</th>\n",
       "      <th>view</th>\n",
       "      <th>condition</th>\n",
       "      <th>sqft_above</th>\n",
       "      <th>sqft_basement</th>\n",
       "      <th>2</th>\n",
       "      <th>20</th>\n",
       "      <th>22</th>\n",
       "      <th>...</th>\n",
       "      <th>57</th>\n",
       "      <th>58</th>\n",
       "      <th>62</th>\n",
       "      <th>63</th>\n",
       "      <th>72</th>\n",
       "      <th>73</th>\n",
       "      <th>2.1</th>\n",
       "      <th>20.1</th>\n",
       "      <th>22.1</th>\n",
       "      <th>sqft_above_yeojohnson</th>\n",
       "    </tr>\n",
       "  </thead>\n",
       "  <tbody>\n",
       "    <tr>\n",
       "      <th>0</th>\n",
       "      <td>313000.0</td>\n",
       "      <td>-0.441122</td>\n",
       "      <td>-0.022416</td>\n",
       "      <td>-0.309194</td>\n",
       "      <td>-0.667112</td>\n",
       "      <td>-0.565224</td>\n",
       "      <td>-0.672464</td>\n",
       "      <td>0.0</td>\n",
       "      <td>0.0</td>\n",
       "      <td>0.0</td>\n",
       "      <td>...</td>\n",
       "      <td>0.0</td>\n",
       "      <td>0.0</td>\n",
       "      <td>0.0</td>\n",
       "      <td>0.0</td>\n",
       "      <td>0.0</td>\n",
       "      <td>0.0</td>\n",
       "      <td>0.0</td>\n",
       "      <td>0.0</td>\n",
       "      <td>0.0</td>\n",
       "      <td>-0.443794</td>\n",
       "    </tr>\n",
       "    <tr>\n",
       "      <th>1</th>\n",
       "      <td>342000.0</td>\n",
       "      <td>-0.441122</td>\n",
       "      <td>-0.951388</td>\n",
       "      <td>-0.309194</td>\n",
       "      <td>0.809652</td>\n",
       "      <td>0.119171</td>\n",
       "      <td>-0.672464</td>\n",
       "      <td>0.0</td>\n",
       "      <td>0.0</td>\n",
       "      <td>0.0</td>\n",
       "      <td>...</td>\n",
       "      <td>0.0</td>\n",
       "      <td>0.0</td>\n",
       "      <td>0.0</td>\n",
       "      <td>0.0</td>\n",
       "      <td>0.0</td>\n",
       "      <td>0.0</td>\n",
       "      <td>0.0</td>\n",
       "      <td>0.0</td>\n",
       "      <td>0.0</td>\n",
       "      <td>0.531898</td>\n",
       "    </tr>\n",
       "    <tr>\n",
       "      <th>2</th>\n",
       "      <td>420000.0</td>\n",
       "      <td>-0.441122</td>\n",
       "      <td>-0.951388</td>\n",
       "      <td>-0.309194</td>\n",
       "      <td>0.809652</td>\n",
       "      <td>-0.959621</td>\n",
       "      <td>1.482306</td>\n",
       "      <td>0.0</td>\n",
       "      <td>0.0</td>\n",
       "      <td>0.0</td>\n",
       "      <td>...</td>\n",
       "      <td>0.0</td>\n",
       "      <td>0.0</td>\n",
       "      <td>0.0</td>\n",
       "      <td>0.0</td>\n",
       "      <td>0.0</td>\n",
       "      <td>0.0</td>\n",
       "      <td>1.0</td>\n",
       "      <td>0.0</td>\n",
       "      <td>0.0</td>\n",
       "      <td>-1.199296</td>\n",
       "    </tr>\n",
       "    <tr>\n",
       "      <th>3</th>\n",
       "      <td>550000.0</td>\n",
       "      <td>0.659291</td>\n",
       "      <td>-0.951388</td>\n",
       "      <td>-0.309194</td>\n",
       "      <td>0.809652</td>\n",
       "      <td>-0.797222</td>\n",
       "      <td>1.051352</td>\n",
       "      <td>0.0</td>\n",
       "      <td>0.0</td>\n",
       "      <td>0.0</td>\n",
       "      <td>...</td>\n",
       "      <td>0.0</td>\n",
       "      <td>0.0</td>\n",
       "      <td>0.0</td>\n",
       "      <td>0.0</td>\n",
       "      <td>0.0</td>\n",
       "      <td>0.0</td>\n",
       "      <td>0.0</td>\n",
       "      <td>0.0</td>\n",
       "      <td>0.0</td>\n",
       "      <td>-0.871731</td>\n",
       "    </tr>\n",
       "    <tr>\n",
       "      <th>4</th>\n",
       "      <td>490000.0</td>\n",
       "      <td>-1.541536</td>\n",
       "      <td>-0.951388</td>\n",
       "      <td>-0.309194</td>\n",
       "      <td>-0.667112</td>\n",
       "      <td>-1.098820</td>\n",
       "      <td>-0.672464</td>\n",
       "      <td>0.0</td>\n",
       "      <td>0.0</td>\n",
       "      <td>0.0</td>\n",
       "      <td>...</td>\n",
       "      <td>0.0</td>\n",
       "      <td>0.0</td>\n",
       "      <td>0.0</td>\n",
       "      <td>0.0</td>\n",
       "      <td>0.0</td>\n",
       "      <td>0.0</td>\n",
       "      <td>0.0</td>\n",
       "      <td>0.0</td>\n",
       "      <td>0.0</td>\n",
       "      <td>-1.498083</td>\n",
       "    </tr>\n",
       "  </tbody>\n",
       "</table>\n",
       "<p>5 rows × 30 columns</p>\n",
       "</div>"
      ],
      "text/plain": [
       "      price  bedrooms    floors      view  condition  sqft_above  \\\n",
       "0  313000.0 -0.441122 -0.022416 -0.309194  -0.667112   -0.565224   \n",
       "1  342000.0 -0.441122 -0.951388 -0.309194   0.809652    0.119171   \n",
       "2  420000.0 -0.441122 -0.951388 -0.309194   0.809652   -0.959621   \n",
       "3  550000.0  0.659291 -0.951388 -0.309194   0.809652   -0.797222   \n",
       "4  490000.0 -1.541536 -0.951388 -0.309194  -0.667112   -1.098820   \n",
       "\n",
       "   sqft_basement    2   20   22  ...   57   58   62   63   72   73  2.1  20.1  \\\n",
       "0      -0.672464  0.0  0.0  0.0  ...  0.0  0.0  0.0  0.0  0.0  0.0  0.0   0.0   \n",
       "1      -0.672464  0.0  0.0  0.0  ...  0.0  0.0  0.0  0.0  0.0  0.0  0.0   0.0   \n",
       "2       1.482306  0.0  0.0  0.0  ...  0.0  0.0  0.0  0.0  0.0  0.0  1.0   0.0   \n",
       "3       1.051352  0.0  0.0  0.0  ...  0.0  0.0  0.0  0.0  0.0  0.0  0.0   0.0   \n",
       "4      -0.672464  0.0  0.0  0.0  ...  0.0  0.0  0.0  0.0  0.0  0.0  0.0   0.0   \n",
       "\n",
       "   22.1  sqft_above_yeojohnson  \n",
       "0   0.0              -0.443794  \n",
       "1   0.0               0.531898  \n",
       "2   0.0              -1.199296  \n",
       "3   0.0              -0.871731  \n",
       "4   0.0              -1.498083  \n",
       "\n",
       "[5 rows x 30 columns]"
      ]
     },
     "execution_count": 2,
     "metadata": {},
     "output_type": "execute_result"
    }
   ],
   "source": [
    "data = pd.read_csv('Data_house_cleaned.csv')\n",
    "data.head(5)"
   ]
  },
  {
   "cell_type": "markdown",
   "id": "54e13497-fa93-4fbe-bca8-aa75eb9ba6f2",
   "metadata": {},
   "source": [
    "## 3)- Separación variable dependiente e independiente"
   ]
  },
  {
   "cell_type": "code",
   "execution_count": 3,
   "id": "7987661a-389d-48c5-9c6f-60323b6d4795",
   "metadata": {},
   "outputs": [],
   "source": [
    "y = data['price']"
   ]
  },
  {
   "cell_type": "code",
   "execution_count": 4,
   "id": "28d1b9a2-78a1-4a79-94db-c385223ec3bc",
   "metadata": {},
   "outputs": [],
   "source": [
    "X = data.iloc[:,1:-1]"
   ]
  },
  {
   "cell_type": "code",
   "execution_count": 5,
   "id": "eb32c184-838d-4301-aac2-fc1a3aca935d",
   "metadata": {},
   "outputs": [
    {
     "data": {
      "text/html": [
       "<div>\n",
       "<style scoped>\n",
       "    .dataframe tbody tr th:only-of-type {\n",
       "        vertical-align: middle;\n",
       "    }\n",
       "\n",
       "    .dataframe tbody tr th {\n",
       "        vertical-align: top;\n",
       "    }\n",
       "\n",
       "    .dataframe thead th {\n",
       "        text-align: right;\n",
       "    }\n",
       "</style>\n",
       "<table border=\"1\" class=\"dataframe\">\n",
       "  <thead>\n",
       "    <tr style=\"text-align: right;\">\n",
       "      <th></th>\n",
       "      <th>bedrooms</th>\n",
       "      <th>floors</th>\n",
       "      <th>view</th>\n",
       "      <th>condition</th>\n",
       "      <th>sqft_above</th>\n",
       "      <th>sqft_basement</th>\n",
       "      <th>2</th>\n",
       "      <th>20</th>\n",
       "      <th>22</th>\n",
       "      <th>44</th>\n",
       "      <th>...</th>\n",
       "      <th>55</th>\n",
       "      <th>57</th>\n",
       "      <th>58</th>\n",
       "      <th>62</th>\n",
       "      <th>63</th>\n",
       "      <th>72</th>\n",
       "      <th>73</th>\n",
       "      <th>2.1</th>\n",
       "      <th>20.1</th>\n",
       "      <th>22.1</th>\n",
       "    </tr>\n",
       "  </thead>\n",
       "  <tbody>\n",
       "    <tr>\n",
       "      <th>0</th>\n",
       "      <td>-0.441122</td>\n",
       "      <td>-0.022416</td>\n",
       "      <td>-0.309194</td>\n",
       "      <td>-0.667112</td>\n",
       "      <td>-0.565224</td>\n",
       "      <td>-0.672464</td>\n",
       "      <td>0.0</td>\n",
       "      <td>0.0</td>\n",
       "      <td>0.0</td>\n",
       "      <td>0.0</td>\n",
       "      <td>...</td>\n",
       "      <td>0.0</td>\n",
       "      <td>0.0</td>\n",
       "      <td>0.0</td>\n",
       "      <td>0.0</td>\n",
       "      <td>0.0</td>\n",
       "      <td>0.0</td>\n",
       "      <td>0.0</td>\n",
       "      <td>0.0</td>\n",
       "      <td>0.0</td>\n",
       "      <td>0.0</td>\n",
       "    </tr>\n",
       "    <tr>\n",
       "      <th>1</th>\n",
       "      <td>-0.441122</td>\n",
       "      <td>-0.951388</td>\n",
       "      <td>-0.309194</td>\n",
       "      <td>0.809652</td>\n",
       "      <td>0.119171</td>\n",
       "      <td>-0.672464</td>\n",
       "      <td>0.0</td>\n",
       "      <td>0.0</td>\n",
       "      <td>0.0</td>\n",
       "      <td>0.0</td>\n",
       "      <td>...</td>\n",
       "      <td>0.0</td>\n",
       "      <td>0.0</td>\n",
       "      <td>0.0</td>\n",
       "      <td>0.0</td>\n",
       "      <td>0.0</td>\n",
       "      <td>0.0</td>\n",
       "      <td>0.0</td>\n",
       "      <td>0.0</td>\n",
       "      <td>0.0</td>\n",
       "      <td>0.0</td>\n",
       "    </tr>\n",
       "    <tr>\n",
       "      <th>2</th>\n",
       "      <td>-0.441122</td>\n",
       "      <td>-0.951388</td>\n",
       "      <td>-0.309194</td>\n",
       "      <td>0.809652</td>\n",
       "      <td>-0.959621</td>\n",
       "      <td>1.482306</td>\n",
       "      <td>0.0</td>\n",
       "      <td>0.0</td>\n",
       "      <td>0.0</td>\n",
       "      <td>0.0</td>\n",
       "      <td>...</td>\n",
       "      <td>0.0</td>\n",
       "      <td>0.0</td>\n",
       "      <td>0.0</td>\n",
       "      <td>0.0</td>\n",
       "      <td>0.0</td>\n",
       "      <td>0.0</td>\n",
       "      <td>0.0</td>\n",
       "      <td>1.0</td>\n",
       "      <td>0.0</td>\n",
       "      <td>0.0</td>\n",
       "    </tr>\n",
       "    <tr>\n",
       "      <th>3</th>\n",
       "      <td>0.659291</td>\n",
       "      <td>-0.951388</td>\n",
       "      <td>-0.309194</td>\n",
       "      <td>0.809652</td>\n",
       "      <td>-0.797222</td>\n",
       "      <td>1.051352</td>\n",
       "      <td>0.0</td>\n",
       "      <td>0.0</td>\n",
       "      <td>0.0</td>\n",
       "      <td>0.0</td>\n",
       "      <td>...</td>\n",
       "      <td>0.0</td>\n",
       "      <td>0.0</td>\n",
       "      <td>0.0</td>\n",
       "      <td>0.0</td>\n",
       "      <td>0.0</td>\n",
       "      <td>0.0</td>\n",
       "      <td>0.0</td>\n",
       "      <td>0.0</td>\n",
       "      <td>0.0</td>\n",
       "      <td>0.0</td>\n",
       "    </tr>\n",
       "    <tr>\n",
       "      <th>4</th>\n",
       "      <td>-1.541536</td>\n",
       "      <td>-0.951388</td>\n",
       "      <td>-0.309194</td>\n",
       "      <td>-0.667112</td>\n",
       "      <td>-1.098820</td>\n",
       "      <td>-0.672464</td>\n",
       "      <td>0.0</td>\n",
       "      <td>0.0</td>\n",
       "      <td>0.0</td>\n",
       "      <td>0.0</td>\n",
       "      <td>...</td>\n",
       "      <td>0.0</td>\n",
       "      <td>0.0</td>\n",
       "      <td>0.0</td>\n",
       "      <td>0.0</td>\n",
       "      <td>0.0</td>\n",
       "      <td>0.0</td>\n",
       "      <td>0.0</td>\n",
       "      <td>0.0</td>\n",
       "      <td>0.0</td>\n",
       "      <td>0.0</td>\n",
       "    </tr>\n",
       "    <tr>\n",
       "      <th>...</th>\n",
       "      <td>...</td>\n",
       "      <td>...</td>\n",
       "      <td>...</td>\n",
       "      <td>...</td>\n",
       "      <td>...</td>\n",
       "      <td>...</td>\n",
       "      <td>...</td>\n",
       "      <td>...</td>\n",
       "      <td>...</td>\n",
       "      <td>...</td>\n",
       "      <td>...</td>\n",
       "      <td>...</td>\n",
       "      <td>...</td>\n",
       "      <td>...</td>\n",
       "      <td>...</td>\n",
       "      <td>...</td>\n",
       "      <td>...</td>\n",
       "      <td>...</td>\n",
       "      <td>...</td>\n",
       "      <td>...</td>\n",
       "      <td>...</td>\n",
       "    </tr>\n",
       "    <tr>\n",
       "      <th>3836</th>\n",
       "      <td>-0.441122</td>\n",
       "      <td>-0.951388</td>\n",
       "      <td>-0.309194</td>\n",
       "      <td>0.809652</td>\n",
       "      <td>-0.368025</td>\n",
       "      <td>-0.672464</td>\n",
       "      <td>0.0</td>\n",
       "      <td>0.0</td>\n",
       "      <td>0.0</td>\n",
       "      <td>0.0</td>\n",
       "      <td>...</td>\n",
       "      <td>0.0</td>\n",
       "      <td>0.0</td>\n",
       "      <td>0.0</td>\n",
       "      <td>0.0</td>\n",
       "      <td>0.0</td>\n",
       "      <td>0.0</td>\n",
       "      <td>0.0</td>\n",
       "      <td>0.0</td>\n",
       "      <td>0.0</td>\n",
       "      <td>0.0</td>\n",
       "    </tr>\n",
       "    <tr>\n",
       "      <th>3837</th>\n",
       "      <td>-0.441122</td>\n",
       "      <td>0.906555</td>\n",
       "      <td>-0.309194</td>\n",
       "      <td>-0.667112</td>\n",
       "      <td>-0.426025</td>\n",
       "      <td>-0.672464</td>\n",
       "      <td>0.0</td>\n",
       "      <td>0.0</td>\n",
       "      <td>0.0</td>\n",
       "      <td>0.0</td>\n",
       "      <td>...</td>\n",
       "      <td>0.0</td>\n",
       "      <td>0.0</td>\n",
       "      <td>0.0</td>\n",
       "      <td>0.0</td>\n",
       "      <td>0.0</td>\n",
       "      <td>0.0</td>\n",
       "      <td>0.0</td>\n",
       "      <td>1.0</td>\n",
       "      <td>0.0</td>\n",
       "      <td>0.0</td>\n",
       "    </tr>\n",
       "    <tr>\n",
       "      <th>3838</th>\n",
       "      <td>-0.441122</td>\n",
       "      <td>0.906555</td>\n",
       "      <td>-0.309194</td>\n",
       "      <td>-0.667112</td>\n",
       "      <td>1.371962</td>\n",
       "      <td>-0.672464</td>\n",
       "      <td>0.0</td>\n",
       "      <td>0.0</td>\n",
       "      <td>0.0</td>\n",
       "      <td>0.0</td>\n",
       "      <td>...</td>\n",
       "      <td>0.0</td>\n",
       "      <td>0.0</td>\n",
       "      <td>0.0</td>\n",
       "      <td>0.0</td>\n",
       "      <td>0.0</td>\n",
       "      <td>0.0</td>\n",
       "      <td>0.0</td>\n",
       "      <td>0.0</td>\n",
       "      <td>0.0</td>\n",
       "      <td>0.0</td>\n",
       "    </tr>\n",
       "    <tr>\n",
       "      <th>3839</th>\n",
       "      <td>0.659291</td>\n",
       "      <td>-0.951388</td>\n",
       "      <td>-0.309194</td>\n",
       "      <td>-0.667112</td>\n",
       "      <td>-0.878421</td>\n",
       "      <td>1.525401</td>\n",
       "      <td>0.0</td>\n",
       "      <td>0.0</td>\n",
       "      <td>0.0</td>\n",
       "      <td>0.0</td>\n",
       "      <td>...</td>\n",
       "      <td>0.0</td>\n",
       "      <td>0.0</td>\n",
       "      <td>0.0</td>\n",
       "      <td>0.0</td>\n",
       "      <td>0.0</td>\n",
       "      <td>0.0</td>\n",
       "      <td>0.0</td>\n",
       "      <td>0.0</td>\n",
       "      <td>0.0</td>\n",
       "      <td>0.0</td>\n",
       "    </tr>\n",
       "    <tr>\n",
       "      <th>3840</th>\n",
       "      <td>-0.441122</td>\n",
       "      <td>0.906555</td>\n",
       "      <td>-0.309194</td>\n",
       "      <td>0.809652</td>\n",
       "      <td>-0.391225</td>\n",
       "      <td>-0.672464</td>\n",
       "      <td>0.0</td>\n",
       "      <td>0.0</td>\n",
       "      <td>0.0</td>\n",
       "      <td>0.0</td>\n",
       "      <td>...</td>\n",
       "      <td>0.0</td>\n",
       "      <td>0.0</td>\n",
       "      <td>0.0</td>\n",
       "      <td>0.0</td>\n",
       "      <td>0.0</td>\n",
       "      <td>0.0</td>\n",
       "      <td>0.0</td>\n",
       "      <td>0.0</td>\n",
       "      <td>0.0</td>\n",
       "      <td>0.0</td>\n",
       "    </tr>\n",
       "  </tbody>\n",
       "</table>\n",
       "<p>3841 rows × 28 columns</p>\n",
       "</div>"
      ],
      "text/plain": [
       "      bedrooms    floors      view  condition  sqft_above  sqft_basement    2  \\\n",
       "0    -0.441122 -0.022416 -0.309194  -0.667112   -0.565224      -0.672464  0.0   \n",
       "1    -0.441122 -0.951388 -0.309194   0.809652    0.119171      -0.672464  0.0   \n",
       "2    -0.441122 -0.951388 -0.309194   0.809652   -0.959621       1.482306  0.0   \n",
       "3     0.659291 -0.951388 -0.309194   0.809652   -0.797222       1.051352  0.0   \n",
       "4    -1.541536 -0.951388 -0.309194  -0.667112   -1.098820      -0.672464  0.0   \n",
       "...        ...       ...       ...        ...         ...            ...  ...   \n",
       "3836 -0.441122 -0.951388 -0.309194   0.809652   -0.368025      -0.672464  0.0   \n",
       "3837 -0.441122  0.906555 -0.309194  -0.667112   -0.426025      -0.672464  0.0   \n",
       "3838 -0.441122  0.906555 -0.309194  -0.667112    1.371962      -0.672464  0.0   \n",
       "3839  0.659291 -0.951388 -0.309194  -0.667112   -0.878421       1.525401  0.0   \n",
       "3840 -0.441122  0.906555 -0.309194   0.809652   -0.391225      -0.672464  0.0   \n",
       "\n",
       "       20   22   44  ...   55   57   58   62   63   72   73  2.1  20.1  22.1  \n",
       "0     0.0  0.0  0.0  ...  0.0  0.0  0.0  0.0  0.0  0.0  0.0  0.0   0.0   0.0  \n",
       "1     0.0  0.0  0.0  ...  0.0  0.0  0.0  0.0  0.0  0.0  0.0  0.0   0.0   0.0  \n",
       "2     0.0  0.0  0.0  ...  0.0  0.0  0.0  0.0  0.0  0.0  0.0  1.0   0.0   0.0  \n",
       "3     0.0  0.0  0.0  ...  0.0  0.0  0.0  0.0  0.0  0.0  0.0  0.0   0.0   0.0  \n",
       "4     0.0  0.0  0.0  ...  0.0  0.0  0.0  0.0  0.0  0.0  0.0  0.0   0.0   0.0  \n",
       "...   ...  ...  ...  ...  ...  ...  ...  ...  ...  ...  ...  ...   ...   ...  \n",
       "3836  0.0  0.0  0.0  ...  0.0  0.0  0.0  0.0  0.0  0.0  0.0  0.0   0.0   0.0  \n",
       "3837  0.0  0.0  0.0  ...  0.0  0.0  0.0  0.0  0.0  0.0  0.0  1.0   0.0   0.0  \n",
       "3838  0.0  0.0  0.0  ...  0.0  0.0  0.0  0.0  0.0  0.0  0.0  0.0   0.0   0.0  \n",
       "3839  0.0  0.0  0.0  ...  0.0  0.0  0.0  0.0  0.0  0.0  0.0  0.0   0.0   0.0  \n",
       "3840  0.0  0.0  0.0  ...  0.0  0.0  0.0  0.0  0.0  0.0  0.0  0.0   0.0   0.0  \n",
       "\n",
       "[3841 rows x 28 columns]"
      ]
     },
     "execution_count": 5,
     "metadata": {},
     "output_type": "execute_result"
    }
   ],
   "source": [
    "X"
   ]
  },
  {
   "cell_type": "markdown",
   "id": "e1e45409-f8d4-4629-8be5-a79e93e7f420",
   "metadata": {},
   "source": [
    "##### En este caso no usamos la columna de 'sqft_above_yeojohnson' porque estamos creando un random forest y no es necesario en este caso"
   ]
  },
  {
   "cell_type": "markdown",
   "id": "e6caa421-ad82-4ed3-b01b-bd72ff78da1b",
   "metadata": {},
   "source": [
    "## 4)- Entrenamiento y ajuste del modelo"
   ]
  },
  {
   "cell_type": "markdown",
   "id": "c40f32a3-9e78-4c46-a356-a634dfe284c5",
   "metadata": {},
   "source": [
    "#### En esta ocasión vamos a implementar el GridSearchCV para poder obtener el mejor conjunto de hiperparámetros para nuestro modelo"
   ]
  },
  {
   "cell_type": "code",
   "execution_count": 13,
   "id": "ac210d52-4c40-47ee-b299-c7345d550ae6",
   "metadata": {},
   "outputs": [],
   "source": [
    "parameters= [{'criterion':[\"squared_error\", \"absolute_error\", \"friedman_mse\", \"poisson\"],'n_estimators':[200,300,400,500],'max_depth' : [10,20,30],'min_samples_split' : [4,6,8]}]"
   ]
  },
  {
   "cell_type": "code",
   "execution_count": 9,
   "id": "ea1a5ccc-4f33-42f4-90b1-8dc9557c4949",
   "metadata": {},
   "outputs": [],
   "source": [
    "X_train,X_test,y_train,y_test=train_test_split(X,y,test_size=0.2)"
   ]
  },
  {
   "cell_type": "code",
   "execution_count": 10,
   "id": "beba194a-505b-4986-973c-a856b22bc944",
   "metadata": {},
   "outputs": [],
   "source": [
    "regresor = RandomForestRegressor()"
   ]
  },
  {
   "cell_type": "code",
   "execution_count": 11,
   "id": "0559171b-b5e5-43eb-8cb7-656fd39ec99e",
   "metadata": {},
   "outputs": [],
   "source": [
    "grid_search = GridSearchCV(regresor,param_grid=parameters,scoring='neg_mean_squared_error',cv = 2,n_jobs=-1)"
   ]
  },
  {
   "cell_type": "code",
   "execution_count": 14,
   "id": "6f90ca0a-8e5d-4280-a9ce-7d66869231dc",
   "metadata": {},
   "outputs": [],
   "source": [
    "grid_search = grid_search.fit(X_train,y_train)"
   ]
  },
  {
   "cell_type": "code",
   "execution_count": 16,
   "id": "62c75637-6e68-495b-a86e-e9df84dfd4ed",
   "metadata": {},
   "outputs": [
    {
     "data": {
      "text/plain": [
       "{'criterion': 'absolute_error',\n",
       " 'max_depth': 30,\n",
       " 'min_samples_split': 8,\n",
       " 'n_estimators': 300}"
      ]
     },
     "execution_count": 16,
     "metadata": {},
     "output_type": "execute_result"
    }
   ],
   "source": [
    "grid_search.best_params_"
   ]
  },
  {
   "cell_type": "code",
   "execution_count": 47,
   "id": "f10588d3-55a8-4ba6-9e27-a1d9694b19de",
   "metadata": {},
   "outputs": [],
   "source": [
    "randomForest = RandomForestRegressor(n_estimators=300,criterion= \"absolute_error\",n_jobs=5,max_depth=30,min_samples_split=8)\n",
    "randomForest.fit(X_train, y_train)\n",
    "y_pred = randomForest.predict(X_test)"
   ]
  },
  {
   "cell_type": "code",
   "execution_count": 18,
   "id": "bea92813-916d-4a70-b92b-c0ac8c450d07",
   "metadata": {},
   "outputs": [
    {
     "data": {
      "text/plain": [
       "20.113946032238093"
      ]
     },
     "execution_count": 18,
     "metadata": {},
     "output_type": "execute_result"
    }
   ],
   "source": [
    "(mean_absolute_error(y_test, y_pred) / data['price'].mean() )*100"
   ]
  },
  {
   "cell_type": "markdown",
   "id": "f391642d-c58e-40bd-9117-0a6f17eed363",
   "metadata": {},
   "source": [
    "#### Una vez que hemos probado los primeros parámetros, iremos ajustando el rango de los mismos para mejorar el modelo hasta que ya sufra de overfiting y empeore"
   ]
  },
  {
   "cell_type": "code",
   "execution_count": 48,
   "id": "bcc731c3-370a-451a-ab7b-3b7ce8d1ef23",
   "metadata": {},
   "outputs": [],
   "source": [
    "parameters= [{'criterion':[\"absolute_error\"],'n_estimators':[300],'max_depth' : [36,28,30],'min_samples_split' : [10,6,8], 'max_features': [10,12,14]}]"
   ]
  },
  {
   "cell_type": "code",
   "execution_count": 49,
   "id": "2d81fa98-bc24-47d2-823c-784c7c1af845",
   "metadata": {},
   "outputs": [],
   "source": [
    "grid_search = GridSearchCV(regresor,param_grid=parameters,scoring='neg_mean_squared_error',cv = 4,n_jobs=-1)"
   ]
  },
  {
   "cell_type": "code",
   "execution_count": 50,
   "id": "43765b04-8bcc-4650-9ddb-469f0ba6a19c",
   "metadata": {},
   "outputs": [],
   "source": [
    "grid_search = grid_search.fit(X_train,y_train)"
   ]
  },
  {
   "cell_type": "code",
   "execution_count": 51,
   "id": "e2f85469-9477-4969-9eb3-a34c7342f4cd",
   "metadata": {},
   "outputs": [
    {
     "data": {
      "text/plain": [
       "{'criterion': 'absolute_error',\n",
       " 'max_depth': 30,\n",
       " 'max_features': 10,\n",
       " 'min_samples_split': 8,\n",
       " 'n_estimators': 300}"
      ]
     },
     "execution_count": 51,
     "metadata": {},
     "output_type": "execute_result"
    }
   ],
   "source": [
    "grid_search.best_params_"
   ]
  },
  {
   "cell_type": "code",
   "execution_count": 53,
   "id": "6dc61bef-3df0-4676-af84-09ec90ad3ea3",
   "metadata": {},
   "outputs": [
    {
     "data": {
      "text/plain": [
       "19.45992725685691"
      ]
     },
     "execution_count": 53,
     "metadata": {},
     "output_type": "execute_result"
    }
   ],
   "source": [
    "randomForest = RandomForestRegressor(n_estimators=300,criterion= \"absolute_error\",n_jobs=5,max_depth=30,min_samples_split=8,max_features=10)\n",
    "randomForest.fit(X_train, y_train)\n",
    "y_pred = randomForest.predict(X_test)\n",
    "(mean_absolute_error(y_test, y_pred) / data['price'].mean() )*100"
   ]
  },
  {
   "cell_type": "code",
   "execution_count": 71,
   "id": "11b4f55b-da68-453c-b1f5-6ef2a224c7c4",
   "metadata": {},
   "outputs": [],
   "source": [
    "parameters= [{'criterion':[\"absolute_error\"],'n_estimators':[300],'max_depth' : [30,28,26],'min_samples_split' : [6,8,10],'max_features': [10,8,9]}]"
   ]
  },
  {
   "cell_type": "code",
   "execution_count": 72,
   "id": "49c0353a-8396-4d90-bc6c-a3bf53ba76e4",
   "metadata": {},
   "outputs": [],
   "source": [
    "grid_search = GridSearchCV(regresor,param_grid=parameters,scoring='r2',cv = 4,n_jobs=-1)"
   ]
  },
  {
   "cell_type": "code",
   "execution_count": 73,
   "id": "eca1ac4f-a715-46df-9c90-6c6445c5879a",
   "metadata": {},
   "outputs": [],
   "source": [
    "grid_search = grid_search.fit(X_train,y_train)"
   ]
  },
  {
   "cell_type": "code",
   "execution_count": 68,
   "id": "bbfd1efd-f758-4ba0-a5ae-bced51890dfa",
   "metadata": {},
   "outputs": [
    {
     "data": {
      "text/plain": [
       "{'criterion': 'absolute_error',\n",
       " 'max_depth': 22,\n",
       " 'max_features': 6,\n",
       " 'min_samples_split': 7,\n",
       " 'n_estimators': 300}"
      ]
     },
     "execution_count": 68,
     "metadata": {},
     "output_type": "execute_result"
    }
   ],
   "source": [
    "grid_search.best_params_"
   ]
  },
  {
   "cell_type": "code",
   "execution_count": 62,
   "id": "7ba4c3ef-0c55-49fe-8bc4-a3cfe4efad5f",
   "metadata": {},
   "outputs": [
    {
     "data": {
      "text/plain": [
       "19.402278435623934"
      ]
     },
     "execution_count": 62,
     "metadata": {},
     "output_type": "execute_result"
    }
   ],
   "source": [
    "randomForest = RandomForestRegressor(n_estimators=300,criterion= \"absolute_error\",n_jobs=5,max_depth=26,min_samples_split=10,max_features=8)\n",
    "randomForest.fit(X_train, y_train)\n",
    "y_pred = randomForest.predict(X_test)\n",
    "(mean_absolute_error(y_test, y_pred) / data['price'].mean() )*100"
   ]
  },
  {
   "cell_type": "code",
   "execution_count": 65,
   "id": "67dd1340-3c13-4756-821f-687f2095e4d7",
   "metadata": {},
   "outputs": [],
   "source": [
    "parameters= [{'criterion':[\"absolute_error\"],'n_estimators':[300],'max_depth' : [26,24,22],'min_samples_split' : [5,10,7],'max_features' : [8,6,9]}]"
   ]
  },
  {
   "cell_type": "code",
   "execution_count": 66,
   "id": "a0b46426-d0f6-462e-ae01-52e28200f9c4",
   "metadata": {},
   "outputs": [],
   "source": [
    "grid_search = GridSearchCV(regresor,param_grid=parameters,scoring='r2',cv = 4,n_jobs=-1)"
   ]
  },
  {
   "cell_type": "code",
   "execution_count": 67,
   "id": "81ae4762-7a2d-4e4b-adb6-9eac4db313a4",
   "metadata": {},
   "outputs": [],
   "source": [
    "grid_search = grid_search.fit(X_train,y_train)"
   ]
  },
  {
   "cell_type": "code",
   "execution_count": 69,
   "id": "403b319a-dcb6-40e6-a0e1-1278f9b27c17",
   "metadata": {},
   "outputs": [
    {
     "data": {
      "text/plain": [
       "{'criterion': 'absolute_error',\n",
       " 'max_depth': 22,\n",
       " 'max_features': 6,\n",
       " 'min_samples_split': 7,\n",
       " 'n_estimators': 300}"
      ]
     },
     "execution_count": 69,
     "metadata": {},
     "output_type": "execute_result"
    }
   ],
   "source": [
    "grid_search.best_params_"
   ]
  },
  {
   "cell_type": "code",
   "execution_count": 70,
   "id": "9b2c6020-5eb2-479a-9b08-4d5f13876536",
   "metadata": {},
   "outputs": [
    {
     "data": {
      "text/plain": [
       "19.33088846549742"
      ]
     },
     "execution_count": 70,
     "metadata": {},
     "output_type": "execute_result"
    }
   ],
   "source": [
    "randomForest = RandomForestRegressor(n_estimators=300,criterion= \"absolute_error\",n_jobs=5,max_depth=22,min_samples_split=7,max_features=6)\n",
    "randomForest.fit(X_train, y_train)\n",
    "y_pred = randomForest.predict(X_test)\n",
    "(mean_absolute_error(y_test, y_pred) / data['price'].mean() )*100"
   ]
  },
  {
   "cell_type": "code",
   "execution_count": 75,
   "id": "c6495062-cb9b-452a-ae03-6175db3e5971",
   "metadata": {},
   "outputs": [],
   "source": [
    "parameters= [{'criterion':[\"absolute_error\"],'n_estimators':[300],'max_depth' : [18,20,22],'min_samples_split' : [5,8,7],'max_features' : [5,6,7]}]"
   ]
  },
  {
   "cell_type": "code",
   "execution_count": 76,
   "id": "a9c28cfe-b443-4293-a970-12caf67a433a",
   "metadata": {},
   "outputs": [],
   "source": [
    "grid_search = GridSearchCV(regresor,param_grid=parameters,scoring='r2',cv = 4,n_jobs=-1)"
   ]
  },
  {
   "cell_type": "code",
   "execution_count": 77,
   "id": "598ceb10-df2d-4b07-bdab-de06e6e3568f",
   "metadata": {},
   "outputs": [],
   "source": [
    "grid_search = grid_search.fit(X_train,y_train)"
   ]
  },
  {
   "cell_type": "code",
   "execution_count": 78,
   "id": "1201b581-145f-499d-b42f-90aade210dfc",
   "metadata": {},
   "outputs": [
    {
     "data": {
      "text/plain": [
       "{'criterion': 'absolute_error',\n",
       " 'max_depth': 22,\n",
       " 'max_features': 5,\n",
       " 'min_samples_split': 8,\n",
       " 'n_estimators': 300}"
      ]
     },
     "execution_count": 78,
     "metadata": {},
     "output_type": "execute_result"
    }
   ],
   "source": [
    "grid_search.best_params_"
   ]
  },
  {
   "cell_type": "code",
   "execution_count": 79,
   "id": "66e82776-ccd0-4765-a21e-6be5c71ff71b",
   "metadata": {},
   "outputs": [
    {
     "data": {
      "text/plain": [
       "19.314078968775"
      ]
     },
     "execution_count": 79,
     "metadata": {},
     "output_type": "execute_result"
    }
   ],
   "source": [
    "randomForest = RandomForestRegressor(n_estimators=300,criterion= \"absolute_error\",n_jobs=5,max_depth=22,min_samples_split=8,max_features=5)\n",
    "randomForest.fit(X_train, y_train)\n",
    "y_pred = randomForest.predict(X_test)\n",
    "(mean_absolute_error(y_test, y_pred) / data['price'].mean() )*100"
   ]
  },
  {
   "cell_type": "code",
   "execution_count": 88,
   "id": "51ae3732-91de-443b-a210-7b051d4a4c05",
   "metadata": {},
   "outputs": [],
   "source": [
    "parameters= [{'criterion':[\"absolute_error\"],'n_estimators':[300],'max_depth' : [18,20,22],'min_samples_split' : [5,8,7],'max_features' : [5,4,7],'min_samples_leaf' : [2,3,4]}]"
   ]
  },
  {
   "cell_type": "code",
   "execution_count": 89,
   "id": "f7e0aeed-9c18-4e52-bbc6-9b87eff93703",
   "metadata": {},
   "outputs": [],
   "source": [
    "grid_search = GridSearchCV(regresor,param_grid=parameters,scoring='r2',cv = 4,n_jobs=-1)"
   ]
  },
  {
   "cell_type": "code",
   "execution_count": 90,
   "id": "988058bb-2db1-4e68-a0a2-b48eb0809a2f",
   "metadata": {},
   "outputs": [],
   "source": [
    "grid_search = grid_search.fit(X_train,y_train)"
   ]
  },
  {
   "cell_type": "code",
   "execution_count": 91,
   "id": "8fffeb9a-5bb0-4b24-8b27-4c070e67888a",
   "metadata": {},
   "outputs": [
    {
     "data": {
      "text/plain": [
       "{'criterion': 'absolute_error',\n",
       " 'max_depth': 22,\n",
       " 'max_features': 7,\n",
       " 'min_samples_leaf': 2,\n",
       " 'min_samples_split': 5,\n",
       " 'n_estimators': 300}"
      ]
     },
     "execution_count": 91,
     "metadata": {},
     "output_type": "execute_result"
    }
   ],
   "source": [
    "grid_search.best_params_"
   ]
  },
  {
   "cell_type": "code",
   "execution_count": 92,
   "id": "18de28b3-e3c1-4818-b09c-dd3ebf39ddbc",
   "metadata": {},
   "outputs": [
    {
     "data": {
      "text/plain": [
       "20.348441333364967"
      ]
     },
     "execution_count": 92,
     "metadata": {},
     "output_type": "execute_result"
    }
   ],
   "source": [
    "randomForest = RandomForestRegressor(n_estimators=300,criterion= \"absolute_error\",n_jobs=5,max_depth=22,min_samples_split=5,max_features=7,min_samples_leaf=2)\n",
    "randomForest.fit(X_train, y_train)\n",
    "y_pred = randomForest.predict(X_test)\n",
    "(mean_absolute_error(y_test, y_pred) / data['price'].mean() )*100"
   ]
  },
  {
   "cell_type": "markdown",
   "id": "3f41ebe1-5c26-4770-968f-9dc3178366be",
   "metadata": {},
   "source": [
    "#### Hasta ahora el mejor modelo que he obtenido usando el Grid Search ha sido el que usa 300 árboles, usa el criterio del error absoluto que va muy bien para mitigar el efecto de los valores extremos, un max_depth de 22, min_samples_split de 8 y un max_features de 5\n",
    "#### El mejor resultado es de 80.69% de precisión"
   ]
  },
  {
   "cell_type": "code",
   "execution_count": null,
   "id": "c0f6806b-be9c-45f3-96b6-1987692f2be9",
   "metadata": {},
   "outputs": [],
   "source": []
  }
 ],
 "metadata": {
  "kernelspec": {
   "display_name": "Python 3 (ipykernel)",
   "language": "python",
   "name": "python3"
  },
  "language_info": {
   "codemirror_mode": {
    "name": "ipython",
    "version": 3
   },
   "file_extension": ".py",
   "mimetype": "text/x-python",
   "name": "python",
   "nbconvert_exporter": "python",
   "pygments_lexer": "ipython3",
   "version": "3.8.15"
  }
 },
 "nbformat": 4,
 "nbformat_minor": 5
}
